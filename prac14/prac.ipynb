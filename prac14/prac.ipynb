{
 "cells": [
  {
   "cell_type": "markdown",
   "id": "90745383-044f-4f9d-988e-5ba699cd0d6c",
   "metadata": {},
   "source": [
    "# 14. Условное математическое ожидание."
   ]
  },
  {
   "cell_type": "markdown",
   "id": "1c0419e5-d320-4fb3-9cd8-91b8597440a0",
   "metadata": {},
   "source": [
    "<img src='data/image.png' width=400/>"
   ]
  },
  {
   "cell_type": "markdown",
   "id": "7d236bef-b9c7-4028-bb56-26a740842b65",
   "metadata": {
    "id": "bc21279e-5c02-444f-af18-c24c253d2ac0"
   },
   "source": [
    "## Содержание\n",
    "\n",
    "* [Теория](#chapter1)\n",
    "* [Задачи на пару](#chapter2)\n",
    "* [Домашнее задание](#chapter3)\n",
    "* [Гробы](#chapter4)"
   ]
  },
  {
   "cell_type": "markdown",
   "id": "12a43300-9916-4d58-b4b8-b6e18aeeb398",
   "metadata": {},
   "source": [
    "## Теория <a class=\"anchor\" id=\"chapter1\"></a>"
   ]
  },
  {
   "cell_type": "markdown",
   "id": "22e7dc9e-e7c7-4982-b3eb-c8578126db45",
   "metadata": {},
   "source": [
    "$$E(\\xi|\\eta)(y) = \\sum xP(\\xi=x|\\eta=y)dx$$\n",
    "\n",
    "$$E(\\xi|\\eta)(y) = \\int_{-\\infty}^{\\infty}x\\rho_{\\xi|\\eta}(x|y)dx$$"
   ]
  },
  {
   "cell_type": "markdown",
   "id": "bb2e9845-9a40-484b-b8dc-8a2d5190dad9",
   "metadata": {},
   "source": [
    "## Задачи на пару <a class=\"anchor\" id=\"chapter2\"></a>"
   ]
  },
  {
   "cell_type": "markdown",
   "id": "c799e1c7-908a-45e0-9642-92464c2fd5dd",
   "metadata": {},
   "source": [
    "**1.** Пусть $\\xi$ - случайная величина, отвечающая за кубик. Посчитайте $E\\xi$ и $D\\xi$ при условии, что на кубике выпало или 3 или 4.\n"
   ]
  },
  {
   "cell_type": "markdown",
   "id": "c7097963-d238-4980-a564-08108387c043",
   "metadata": {},
   "source": [
    "**2.** Пусть $\\xi$ - случайная величина, отвечающая за кубик. Посчитайте функции $E(\\xi|H)$ и $D(\\xi|H)$, где образующее разбиение равно $H = (\\{1\\}, \\{2,3\\}, \\{4,5,6\\})$.\n"
   ]
  },
  {
   "cell_type": "markdown",
   "id": "8392d430-4800-4656-9143-8d7c88900123",
   "metadata": {},
   "source": [
    "**3.** Двумерное распределение пары целочисленных случайных величин $\\xi$ и $\\eta$ задаётся с помощью таблицы,\n",
    "\n",
    "|$\\xi$, $\\eta$|$\\xi$ = $-1$|$\\xi$ = $0$|$\\xi$ = $1$|    \n",
    "|-|-------------------|------------------|---------|\n",
    "|$\\eta$ = $-1$| $\\frac{1}{8}$     |$\\frac{1}{12}$     |$\\frac{7}{24}$ |\n",
    "|$\\eta$ = $1$| $\\frac{5}{24}$   |$\\frac{1}{6}$     |$\\frac{1}{8}$ |\n",
    "\n",
    "где в пересечении столбца $\\xi = i$ и строки $\\eta = j$ находится вероятность $P\\lbrace{\\xi = i, \\eta = j\\rbrace}$. Найти:\n",
    "\n",
    "- Таблицу условной вероятности. В каждой клетке которой находится $p_{ij} = (\\xi=i|\\eta=j)$.\n",
    "- Мат. ожидание $E(\\xi|\\eta)$\n",
    "- Дисперсия $D(\\xi|\\eta)$"
   ]
  },
  {
   "cell_type": "markdown",
   "id": "75e0523c-fe09-4212-8bb9-9ba29a917d56",
   "metadata": {},
   "source": [
    "**4.** Пусть совместная плотность случайного вектора $(\\xi, \\eta)$ равна:\n",
    "$$\\rho_{\\xi,\\eta}(x,y) =\\left\\{\n",
    "\t\\begin{array}{cc}\n",
    "\txe^{-x(y+1)}, & 0\\leq x,y\\\\\n",
    "\t0, & otherwise\n",
    "\t\\end{array}\\right.$$\n",
    "Найти:\n",
    "- одномерные(маргинальные распределения) $\\xi$ и $\\eta$\n",
    "- условные плотности $\\xi$ по $\\eta$ и $\\eta$ по $\\xi$\n",
    "- $E(\\xi|\\eta)$, $E(\\eta|\\xi)$"
   ]
  },
  {
   "cell_type": "markdown",
   "id": "adef14a3-a40e-456b-9b07-7a7a7cbe8abc",
   "metadata": {},
   "source": [
    "## Домашка <a class=\"anchor\" id=\"chapter3\"></a>"
   ]
  },
  {
   "cell_type": "markdown",
   "id": "e7140165-ce7f-43d1-8eea-396b1a7737ce",
   "metadata": {},
   "source": [
    "**1.** Пусть $\\xi$ - случайная величина, отвечающая за неправильный кубик с вероятностями выпадения значений(по порядку) $(\\frac{1}{12}, \\frac{1}{12},\\frac{1}{3}, \\frac{1}{3},\\frac{1}{12},\\frac{1}{12})$. Посчитайте функции $E(\\xi|H)$ и $D(\\xi|H)$, где образующее разбиение равно $H = (\\{1\\}, \\{2,3\\}, \\{4,5,6\\})$.\n",
    " \n"
   ]
  },
  {
   "cell_type": "markdown",
   "id": "75c3e287-0c03-4061-8708-8110c0b3ec63",
   "metadata": {},
   "source": [
    "**2.** Двумерное распределение пары целочисленных случайных величин $\\xi$ и $\\eta$ задаётся с помощью таблицы,\n",
    "\n",
    "| | $\\xi = -1$ | $\\xi = 0$ | $\\xi = 1$ |    \n",
    "|--------|-------------------|------------------|---------|\n",
    "| $\\eta = -1$ | $\\frac{1}{8}$   |$\\frac{1}{12}$    | $\\frac{7}{24}$ |\n",
    "| $\\eta = 1$ | $\\frac{5}{24}$   |$\\frac{1}{6}$     | $\\frac{1}{8}$  |\n",
    "\n",
    "где в пересечении столбца $\\xi = i$ и строки $\\eta = j$ находится вероятность $P\\lbrace{\\xi = i, \\eta = j\\rbrace}$. Найти:\n",
    "\n",
    "- Мат. ожидание $E(\\eta|\\xi)$\n",
    "- Дисперсия $D(\\eta|\\xi)$"
   ]
  },
  {
   "cell_type": "markdown",
   "id": "dc61ca84-5a1e-432e-8b45-2107cf01bb7e",
   "metadata": {},
   "source": [
    "**3.** Денис играет в дартс, на котором отмечены области для всех результатов от 1 до 20. Меткость Дениса линейно возрастает с 0 для выбивания 1 и достигает максимума в 10ке, а потом линейно опускается до 0 в значении 20. Каково матожидание результата 4 бросков, если за все 4 броска Денис:\n",
    "\n",
    "- ни разу не выбил больше 8\n",
    "- выбивал от 9 до 14\n",
    "- только от 15 и более"
   ]
  },
  {
   "cell_type": "markdown",
   "id": "9537c124-70e1-4bde-8061-74cf22f48ed8",
   "metadata": {},
   "source": [
    "**4.** Доказать свойство:\n",
    "    $$E(f(\\eta)\\xi|\\eta) = f(\\eta)E(\\xi|\\eta)$$"
   ]
  },
  {
   "cell_type": "markdown",
   "id": "22f3e729-0e6e-4e05-a848-476cdafc029d",
   "metadata": {},
   "source": [
    "**5.** Пусть совместная плотность случайного вектора $(\\xi, \\eta)$ равна:\n",
    "$$\\rho_{\\xi,\\eta}(x,y) =\\left\\{\n",
    "\t\\begin{array}{cc}\n",
    "\t4xy, & 0\\leq x,y \\leq \\frac{1}{2}\\\\\n",
    "\t0, & otherwise\n",
    "\t\\end{array}\\right.$$\n",
    "Найти:\n",
    "- одномерные(маргинальные распределения) $\\xi$ и $\\eta$\n",
    "- условные плотности $\\xi$ по $\\eta$ и $\\eta$ по $\\xi$\n",
    "- $E(\\xi|\\eta)$, $E(\\eta|\\xi)$"
   ]
  },
  {
   "cell_type": "markdown",
   "id": "9e38a6c3-71cf-41df-a91b-e9500bb26e5c",
   "metadata": {},
   "source": [
    "## Гробы <a class=\"anchor\" id=\"chapter4\"></a>"
   ]
  }
 ],
 "metadata": {
  "kernelspec": {
   "display_name": "Python 3",
   "language": "python",
   "name": "python3"
  },
  "language_info": {
   "codemirror_mode": {
    "name": "ipython",
    "version": 3
   },
   "file_extension": ".py",
   "mimetype": "text/x-python",
   "name": "python",
   "nbconvert_exporter": "python",
   "pygments_lexer": "ipython3",
   "version": "3.8.8"
  }
 },
 "nbformat": 4,
 "nbformat_minor": 5
}
