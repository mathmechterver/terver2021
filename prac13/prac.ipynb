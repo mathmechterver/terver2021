{
 "cells": [
  {
   "cell_type": "markdown",
   "metadata": {
    "id": "-yePWnZCO3-q"
   },
   "source": [
    "# 13. Условное распределение"
   ]
  },
  {
   "cell_type": "markdown",
   "metadata": {},
   "source": [
    "<img src='data/image.png' width=400/>"
   ]
  },
  {
   "cell_type": "markdown",
   "metadata": {
    "id": "bc21279e-5c02-444f-af18-c24c253d2ac0"
   },
   "source": [
    "## Содержание\n",
    "\n",
    "* [Теория](#chapter1)\n",
    "* [Задачи на пару](#chapter2)\n",
    "* [Домашнее задание](#chapter3)\n",
    "* [Гробы](#chapter4)"
   ]
  },
  {
   "cell_type": "markdown",
   "metadata": {},
   "source": [
    "## Теория <a class=\"anchor\" id=\"chapter1\"></a>"
   ]
  },
  {
   "cell_type": "markdown",
   "metadata": {},
   "source": [
    "Введем условную плотность аналогично условной вероятности\n",
    "\n",
    "$$\\rho_{\\xi|\\eta}(x| y) = \\frac{\\rho_{\\xi,\\eta}(x, y)}{\\rho_{\\eta}(y)}$$\n",
    "\n",
    "$$\\rho_{\\xi,\\eta}(x, y) = \\rho_{\\xi|\\eta}(x| y)\\rho_{\\eta}(y) = \\rho_{\\eta|\\xi}(y| x)\\rho_{\\xi}(x)$$\n",
    "\n",
    "Можем найти **маргинальное** распределение через условную вероятность\n",
    "$$\\rho_{\\eta}(y) = \\int_{-\\infty}^{\\infty} \\rho_{\\xi, \\eta}(x, y)dy = \\int_{-\\infty}^{\\infty} \\rho_{\\eta|\\xi}(y|x)\\rho_{\\xi}(x)dx$$"
   ]
  },
  {
   "cell_type": "markdown",
   "metadata": {},
   "source": [
    "И вывод Баеса\n",
    "\n",
    "$$\\rho_{\\xi|\\eta}(x| y) = \\frac{\\rho_{\\xi,\\eta}(x, y)}{\\rho_{\\eta}(y)} = \\frac{\\rho_{\\eta|\\xi}(y| x)\\rho_{\\xi}(x)}{\\int_{-\\infty}^{\\infty} \\rho_{\\eta|\\xi}(y|x)\\rho_{\\xi}(x)dx}$$"
   ]
  },
  {
   "cell_type": "markdown",
   "metadata": {},
   "source": [
    "А на этом моменте мне заебало писать лишние буквы, поэтому записываю все в терминах статистики\n",
    "\n",
    "$$\\rho(\\theta|X) = \\frac{\\rho(X|\\theta)\\rho(\\theta)}{\\int \\rho(X|\\theta)\\rho(\\theta)d\\theta}$$"
   ]
  },
  {
   "cell_type": "markdown",
   "metadata": {},
   "source": [
    "Или машинного обучения\n",
    "$$\\rho(\\theta|data) = \\frac{\\rho(data|\\theta)\\rho(\\theta)}{\\int \\rho(data|\\theta)\\rho(\\theta)d\\theta}$$"
   ]
  },
  {
   "cell_type": "markdown",
   "metadata": {
    "id": "kWAf1ncpPYA3"
   },
   "source": [
    "## Задачи на пару <a class=\"anchor\" id=\"chapter2\"></a>"
   ]
  },
  {
   "cell_type": "markdown",
   "metadata": {},
   "source": [
    "**1.** Пусть $\\mu \\sim U[0,1]$, а $X \\sim \\mathcal{N}(\\mu, 1)$. Ну и докажите хуйню какую-нибудь "
   ]
  },
  {
   "cell_type": "markdown",
   "metadata": {
    "id": "keUXImD9bZBt"
   },
   "source": [
    "**5.** Случайные величины $\\xi$ и $\\eta$ независимы и имеют показательное распределение с параметром 1. Доказать, что отношение $\\frac{\\xi}{\\xi + \\eta}$ распределено равномерно на отрезке $[0, 1]$."
   ]
  },
  {
   "cell_type": "markdown",
   "metadata": {
    "id": "kWAf1ncpPYA3"
   },
   "source": [
    "## ДЗ <a class=\"anchor\" id=\"chapter3\"></a>"
   ]
  },
  {
   "cell_type": "markdown",
   "metadata": {
    "id": "kWAf1ncpPYA3"
   },
   "source": [
    "## Гробы <a class=\"anchor\" id=\"chapter4\"></a>"
   ]
  }
 ],
 "metadata": {
  "colab": {
   "collapsed_sections": [],
   "name": "Practice.ipynb",
   "provenance": []
  },
  "kernelspec": {
   "display_name": "Python 3",
   "language": "python",
   "name": "python3"
  },
  "language_info": {
   "codemirror_mode": {
    "name": "ipython",
    "version": 3
   },
   "file_extension": ".py",
   "mimetype": "text/x-python",
   "name": "python",
   "nbconvert_exporter": "python",
   "pygments_lexer": "ipython3",
   "version": "3.8.8"
  }
 },
 "nbformat": 4,
 "nbformat_minor": 4
}
