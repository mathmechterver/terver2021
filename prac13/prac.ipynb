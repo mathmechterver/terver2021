{
 "cells": [
  {
   "cell_type": "markdown",
   "id": "1ab26ad9-7055-4123-a1ae-3cd1fd17fa04",
   "metadata": {
    "id": "-yePWnZCO3-q"
   },
   "source": [
    "# 13. Условное распределение"
   ]
  },
  {
   "cell_type": "markdown",
   "id": "61d12b02-c18e-4eb1-9707-799dc71655ac",
   "metadata": {},
   "source": [
    "$$\\rho_{\\xi|\\eta}(x|y_0) = \\frac{\\rho_{\\xi,\\eta}(x, y_0)}{\\rho_{\\eta}(y_0)}$$\n",
    "$$\\rho_{\\xi}(x) = \\int_{-\\infty}^{\\infty} \\rho_{\\xi|\\eta}(x|y)\\rho_{\\eta}(y)dy$$"
   ]
  },
  {
   "cell_type": "markdown",
   "id": "5ba3add6-335c-44ea-9c81-d5fe80df7d78",
   "metadata": {
    "id": "kWAf1ncpPYA3"
   },
   "source": [
    "## Задачи на пару"
   ]
  },
  {
   "cell_type": "markdown",
   "id": "bb12d312-4fbb-47f1-9a23-62c57ba77af7",
   "metadata": {
    "id": "keUXImD9bZBt"
   },
   "source": [
    "**5.** Случайные величины $\\xi$ и $\\eta$ независимы и имеют показательное распределение с параметром 1. Доказать, что отношение $\\frac{\\xi}{\\xi + \\eta}$ распределено равномерно на отрезке $[0, 1]$."
   ]
  }
 ],
 "metadata": {
  "kernelspec": {
   "display_name": "Python 3",
   "language": "python",
   "name": "python3"
  },
  "language_info": {
   "codemirror_mode": {
    "name": "ipython",
    "version": 3
   },
   "file_extension": ".py",
   "mimetype": "text/x-python",
   "name": "python",
   "nbconvert_exporter": "python",
   "pygments_lexer": "ipython3",
   "version": "3.8.8"
  }
 },
 "nbformat": 4,
 "nbformat_minor": 5
}
