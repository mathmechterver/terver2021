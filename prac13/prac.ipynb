{
 "cells": [
  {
   "cell_type": "markdown",
   "metadata": {
    "id": "-yePWnZCO3-q"
   },
   "source": [
    "# 13. Условное распределение"
   ]
  },
  {
   "cell_type": "markdown",
   "metadata": {},
   "source": [
    "<img src='data/cond.jpeg' width=300/>"
   ]
  },
  {
   "cell_type": "markdown",
   "metadata": {
    "id": "bc21279e-5c02-444f-af18-c24c253d2ac0"
   },
   "source": [
    "## Содержание\n",
    "\n",
    "* [Теория](#chapter1)\n",
    "* [Задачи на пару](#chapter2)\n",
    "* [Домашнее задание](#chapter3)\n",
    "* [Гробы](#chapter4)"
   ]
  },
  {
   "cell_type": "markdown",
   "metadata": {},
   "source": [
    "## Теория <a class=\"anchor\" id=\"chapter1\"></a>"
   ]
  },
  {
   "cell_type": "markdown",
   "metadata": {},
   "source": [
    "Введем условную плотность аналогично условной вероятности\n",
    "\n",
    "$$\\rho_{\\xi|\\eta}(x| y) = \\frac{\\rho_{\\xi,\\eta}(x, y)}{\\rho_{\\eta}(y)}$$\n",
    "\n",
    "$$\\rho_{\\xi,\\eta}(x, y) = \\rho_{\\xi|\\eta}(x| y)\\rho_{\\eta}(y) = \\rho_{\\eta|\\xi}(y| x)\\rho_{\\xi}(x)$$\n",
    "\n",
    "Можем найти **маргинальное** распределение через условную вероятность\n",
    "$$\\rho_{\\eta}(y) = \\int_{-\\infty}^{\\infty} \\rho_{\\xi, \\eta}(x, y)dy = \\int_{-\\infty}^{\\infty} \\rho_{\\eta|\\xi}(y|x)\\rho_{\\xi}(x)dx$$"
   ]
  },
  {
   "cell_type": "markdown",
   "metadata": {},
   "source": [
    "Можем повесить на это интеграл и получить. $A$ - некоторое событие, которое получится при интегрировании по $B_A$ "
   ]
  },
  {
   "cell_type": "markdown",
   "metadata": {},
   "source": [
    "$$\\int_{B_A}\\rho_{\\eta}(y)dy = P(A) = \\int_{-\\infty}^{+\\infty}P(A|\\xi=x)\\rho_{\\xi}(x)dx = \\int_{-\\infty}^{+\\infty}\\int_{B_A}\\rho_{\\eta|\\xi}(y|x)\\rho_{\\xi}(x)dx$$"
   ]
  },
  {
   "cell_type": "markdown",
   "metadata": {},
   "source": [
    "И вывод Баеса\n",
    "\n",
    "$$\\rho_{\\xi|\\eta}(x| y) = \\frac{\\rho_{\\xi,\\eta}(x, y)}{\\rho_{\\eta}(y)} = \\frac{\\rho_{\\eta|\\xi}(y| x)\\rho_{\\xi}(x)}{\\int_{-\\infty}^{\\infty} \\rho_{\\eta|\\xi}(y|x)\\rho_{\\xi}(x)dx}$$"
   ]
  },
  {
   "cell_type": "markdown",
   "metadata": {},
   "source": [
    "А на этом моменте мне надоело писать лишние буквы, поэтому записываю все в терминах статистики и машинного обучения\n",
    "\n",
    "$$\\rho(\\theta|X) = \\frac{\\rho(X|\\theta)\\rho(\\theta)}{\\int \\rho(X|\\theta)\\rho(\\theta)d\\theta}$$"
   ]
  },
  {
   "cell_type": "markdown",
   "metadata": {
    "id": "kWAf1ncpPYA3"
   },
   "source": [
    "## Задачи на пару <a class=\"anchor\" id=\"chapter2\"></a>"
   ]
  },
  {
   "cell_type": "markdown",
   "metadata": {},
   "source": [
    "**1.**\n",
    "Совместное распределение случайных величин $\\xi$ и $\\eta$ имеет плотность\n",
    "$$\\rho_{\\xi,\\eta}(x,y) =\\left\\{\n",
    "\t\\begin{array}{cc}\n",
    "\t\\frac{1 + 9x^2y^2}{2}, & 0\\leq x, y\\leq 1 \\\\\n",
    "\t0, & otherwise\n",
    "\t\\end{array}\\right.$$\n",
    "    \n",
    "Найдите \n",
    "* $\\rho_{\\xi}$, $\\rho_{\\eta}$\n",
    "* $\\rho_{\\xi|\\eta}$, $\\rho_{\\eta|\\xi}$\n"
   ]
  },
  {
   "cell_type": "markdown",
   "metadata": {
    "id": "keUXImD9bZBt"
   },
   "source": [
    "**2.** Случайные величины $\\xi$ и $\\eta$ независимы и имеют показательное распределение с параметром 1 ($Exp(1)$). Доказать, что отношение $\\frac{\\xi}{\\xi + \\eta}$ распределено равномерно на отрезке $[0, 1]$."
   ]
  },
  {
   "cell_type": "markdown",
   "metadata": {},
   "source": [
    "**3.** Пусть $\\theta \\sim U[a_1, a_2]$ ($a_1, a_2 > 0$), а $X \\sim Exp(\\theta)$. Это значит мы знаем $\\rho_{\\theta}$ и $\\rho_{X|\\theta}$\n",
    "Найдите априорное распределение $X$ $\\rho_{X}$ и апостериорное $\\rho_{\\theta|X}$ "
   ]
  },
  {
   "cell_type": "markdown",
   "metadata": {
    "id": "kWAf1ncpPYA3"
   },
   "source": [
    "## ДЗ <a class=\"anchor\" id=\"chapter3\"></a>"
   ]
  },
  {
   "cell_type": "markdown",
   "metadata": {},
   "source": [
    "**1.** Совместное распределение случайных величин $\\xi$ и $\\eta$ имеет плотность\n",
    "$$\\rho_{\\xi,\\eta}(x,y) =\\left\\{\n",
    "\t\\begin{array}{cc}\n",
    "\t\\frac{3}{2}(x^2+y^2), & 0\\leq x\\leq 1, 0\\leq y\\leq 1 \\\\\n",
    "\t0, & otherwise\n",
    "\t\\end{array}\\right.$$\n",
    "Найдите  $\\rho_{\\xi|\\eta}$, $\\rho_{\\eta|\\xi}$"
   ]
  },
  {
   "cell_type": "markdown",
   "metadata": {},
   "source": [
    "**2.** Пусть $a \\sim U[1, 2]$, $b \\sim Exp(a)$, а $c \\sim N(b, a)$. \n",
    "Найдите совместное распределение $\\rho_{a,b,c}$"
   ]
  },
  {
   "cell_type": "markdown",
   "metadata": {},
   "source": [
    "**3.** Алина купила новое средство против сорняков. Всего сорняков, она прикинула от 900, до 1100. На них всех она распылила средство, на котором написано, что оно эффективно на 99.5 - 99.9 процентов. Найти вероятность того, что все сорняки вымрут, останится 1 сорняк, останется 2 сорняка?\n",
    "\n",
    "Для простоты вычислений можете считать, что распределение количества сорняков - непрерывное."
   ]
  },
  {
   "cell_type": "markdown",
   "metadata": {},
   "source": [
    "**4.** Пусть у нас есть выборка из $X_1,\\ldots, X_n \\sim U[0,\\theta]$ ( плотность $X_i$ равна $\\rho(X|\\theta)$). **Сопряженным** распределением $p(\\theta)$ к $p(X|\\theta)$ называется такое распределение, что $p(\\theta|X)$ лежит в том же семействе, что и $p(\\theta)$ (например $p(\\theta)$ и $p(\\theta|X)$ - оба нормальные, но с разными параметрами)\n",
    "\n",
    "Докажите, что распределение Парето $\\rho(\\theta) = \\frac{ka^k}{x^{k+1}}$ ($a,k$ - просто константы, причем $x < a$), является **сопряженным** к $p(X|\\theta)$. \n",
    "\n",
    "Вам нужно найти $\\rho(\\theta|X)$ и показать, что оно тоже распределено по Парето."
   ]
  },
  {
   "cell_type": "markdown",
   "metadata": {},
   "source": [
    "**5.** Пусть $X$ и $Y$ независимы и нормально распределены с параметрами $(m_1, d_1)$ и $(m_2, d_2)$. \n",
    "* Найдите условное распределение $X + Y$ при условии $X = c$ ($c$ - некоторая константа)"
   ]
  },
  {
   "cell_type": "markdown",
   "metadata": {
    "id": "kWAf1ncpPYA3"
   },
   "source": [
    "## Гробы <a class=\"anchor\" id=\"chapter4\"></a>"
   ]
  },
  {
   "cell_type": "markdown",
   "metadata": {},
   "source": [
    "**1.** (2) Дана система с.в. $(X,Y)$. При этом $X$ имеет распределение Пуассона, а $Y$ имеет условное при $X=k$ Гамма распределение.\n",
    "Найти двумерную функцию распределения системы? "
   ]
  },
  {
   "cell_type": "markdown",
   "metadata": {},
   "source": [
    "**2.** Пусть $X$ и $Y$ независимы и нормально распределены с параметрами $(m_1, d_1)$ и $(m_2, d_2)$. \n",
    "* условное распределение $X$ при условии $X+Y=b$"
   ]
  },
  {
   "cell_type": "code",
   "execution_count": null,
   "metadata": {},
   "outputs": [],
   "source": []
  }
 ],
 "metadata": {
  "colab": {
   "collapsed_sections": [],
   "name": "Practice.ipynb",
   "provenance": []
  },
  "kernelspec": {
   "display_name": "Python 3",
   "language": "python",
   "name": "python3"
  },
  "language_info": {
   "codemirror_mode": {
    "name": "ipython",
    "version": 3
   },
   "file_extension": ".py",
   "mimetype": "text/x-python",
   "name": "python",
   "nbconvert_exporter": "python",
   "pygments_lexer": "ipython3",
   "version": "3.8.8"
  }
 },
 "nbformat": 4,
 "nbformat_minor": 4
}
