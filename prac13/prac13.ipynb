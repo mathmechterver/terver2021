{
 "cells": [
  {
   "cell_type": "markdown",
   "metadata": {
    "id": "-yePWnZCO3-q"
   },
   "source": [
    "# 13. Условное распределение"
   ]
  },
  {
   "cell_type": "markdown",
   "metadata": {},
   "source": [
    "$$\\rho_{\\xi|\\eta}(x|y_0) = \\frac{\\rho_{\\xi,\\eta}(x, y_0)}{\\rho_{\\eta}(y_0)}$$\n",
    "$$\\rho_{\\xi}(x) = \\int_{-\\infty}^{\\infty} \\rho_{\\xi|\\eta}(x|y)\\rho_{\\eta}(y)dy$$"
   ]
  },
  {
   "cell_type": "markdown",
   "metadata": {
    "id": "kWAf1ncpPYA3"
   },
   "source": [
    "## Задачи на пару"
   ]
  },
  {
   "cell_type": "markdown",
   "metadata": {
    "id": "keUXImD9bZBt"
   },
   "source": [
    "**5.** Случайные величины $\\xi$ и $\\eta$ независимы и имеют показательное распределение с параметром 1. Доказать, что отношение $\\frac{\\xi}{\\xi + \\eta}$ распределено равномерно на отрезке $[0, 1]$."
   ]
  },
  {
   "cell_type": "markdown",
   "metadata": {
    "id": "MA19yJWqJOQl"
   },
   "source": [
    "1. Пусть $\\xi$ и $\\eta$ — независимые одинаково распределённые случайные величины с характеристической функцией $f(t)=\\varphi_\\xi(t)$. Найдите характеристическую функцию случайной величины $\\xi-2\\eta+3$."
   ]
  },
  {
   "cell_type": "markdown",
   "metadata": {
    "id": "Aif5tudrKZf5"
   },
   "source": [
    "2. Вычислите характеристическую функцию случайной величины $\\xi$, имеющей биномиальное распределение с параметрами $n$ и $p$.\n",
    "С помощью характеристической функции найдите математическое ожидание и дисперсию случайной величины."
   ]
  },
  {
   "cell_type": "markdown",
   "metadata": {
    "id": "k_JC-MM4S-wt"
   },
   "source": [
    "3. Вычислите характеристическую функцию случайной величины  $\\xi$ , имеющей экспоненциальное распределение с параметром $\\lambda > 0$ . С помощью характеристической функции найдите математическое ожидание и дисперсию случайной величины."
   ]
  },
  {
   "cell_type": "markdown",
   "metadata": {
    "id": "icRaS08cVC0e"
   },
   "source": [
    "4. Пусть случайная величина $\\xi$ распределена нормально с параметрами  $\\mu_1$ и $\\sigma_1 ^{2}$, а случайная величина $\\eta$ распределена нормально с параметрами  $\\mu_2$ и $\\sigma_2 ^{2}$. Характеристическая функция случайной величины $X$, распределенной нормально с параметрами $\\mu$ и $\\sigma ^{2}$, равна $\\phi _{X}\\left(t\\right)=\\exp \\left(\\mu \\,i\\,t-{\\frac {\\sigma ^{2}t^{2}}{2}}\\right)$. Докажите, что случайная величина $\\xi + \\eta$ имеет нормальное распределение и найдите его параметры."
   ]
  },
  {
   "cell_type": "markdown",
   "metadata": {
    "id": "byRAlSrfXqj2"
   },
   "source": [
    "5. Пусть $\\xi$ и $\\eta$ — независимые случайные величины с функциями\n",
    "распределения $F$ и $G$ и характеристическими функциями $\\phi$ и $\\psi$ соответственно. Доказать, что произведение $\\xi\\eta$ имеет характеристическую функцию $\\int_{-\\infty}^{\\infty}\\phi(tz)dG(z)=\\int_{-\\infty}^{\\infty}\\psi(tz)dF(z)$"
   ]
  },
  {
   "cell_type": "markdown",
   "metadata": {
    "id": "y9eAz5xCLoL6"
   },
   "source": [
    "## Домашка"
   ]
  },
  {
   "cell_type": "markdown",
   "metadata": {
    "id": "6mnLoJFyNWRb"
   },
   "source": [
    "1. (2 балла) Вычислите характеристическую функцию \n",
    "\n",
    "*   случайной величины $\\xi$, имеющей \n",
    "геометрическое распределение с параметром $p\\in(0,1)$;\n",
    "*   случайной величины $\\eta$, имеющей распределение Пуассона параметром $a\\gt 0$."
   ]
  },
  {
   "cell_type": "markdown",
   "metadata": {
    "id": "QRGPRvQ3ZQHy"
   },
   "source": [
    "2. (1 балл) Пусть случайная величина $\\xi$ имеет Гамма-распределение.  Найдите ее математическое ожидание и дисперсию."
   ]
  },
  {
   "cell_type": "markdown",
   "metadata": {
    "id": "X17CKHXSOWSQ"
   },
   "source": [
    "3. (1 балл) Даны натуральные числа $k$ и $n$. Случайные величины $\\xi_1,\\xi_2,\\dots\\xi_n$\n",
    "независимы и имеют экспоненциальное распределение с показателем $\\lambda$. Найдите математическое ожидание $E((\\xi_1+\\xi_2+\\ldots+\\xi_n)^k\\big)$."
   ]
  },
  {
   "cell_type": "markdown",
   "metadata": {
    "id": "vLTAtvBaU5HX"
   },
   "source": [
    "## Гробы"
   ]
  },
  {
   "cell_type": "markdown",
   "metadata": {
    "id": "I3D8_GPyTc7n"
   },
   "source": [
    "1. Вычислите характеристическую функцию случайной величины  $\\xi$ , имеющей нормальное распределение с параметрами $\\mu ,\\sigma ^{2}$. С помощью характеристической функции найдите математическое ожидание и дисперсию случайной величины.\n"
   ]
  }
 ],
 "metadata": {
  "colab": {
   "collapsed_sections": [],
   "name": "Practice.ipynb",
   "provenance": []
  },
  "kernelspec": {
   "display_name": "Python 3",
   "language": "python",
   "name": "python3"
  },
  "language_info": {
   "codemirror_mode": {
    "name": "ipython",
    "version": 3
   },
   "file_extension": ".py",
   "mimetype": "text/x-python",
   "name": "python",
   "nbconvert_exporter": "python",
   "pygments_lexer": "ipython3",
   "version": "3.8.8"
  }
 },
 "nbformat": 4,
 "nbformat_minor": 4
}
