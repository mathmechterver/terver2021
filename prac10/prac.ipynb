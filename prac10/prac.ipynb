{
 "cells": [
  {
   "cell_type": "markdown",
   "metadata": {},
   "source": [
    "# 10. Непрерывные случайные величины. Плотность."
   ]
  },
  {
   "cell_type": "markdown",
   "metadata": {},
   "source": [
    "<img src='data/lebegdarbu.png' width=400/>"
   ]
  },
  {
   "cell_type": "markdown",
   "metadata": {
    "id": "bc21279e-5c02-444f-af18-c24c253d2ac0"
   },
   "source": [
    "## Содержание\n",
    "\n",
    "* [Теория](#chapter1)\n",
    "* [Задачи на пару](#chapter2)\n",
    "* [Домашнее задание](#chapter3)\n",
    "* [Гробы](#chapter4)"
   ]
  },
  {
   "cell_type": "markdown",
   "metadata": {
    "id": "1ccc6966-6a73-407d-8295-08155c2fa907"
   },
   "source": [
    "## Теория <a class=\"anchor\" id=\"chapter1\"></a>"
   ]
  },
  {
   "cell_type": "markdown",
   "metadata": {},
   "source": [
    "[Ссылка на презентацию](https://docviewer.yandex.ru/view/487873668/?page=1&*=AzciO0F0OcAVKulHyC5ocLh3TkN7InVybCI6InlhLWRpc2stcHVibGljOi8vWHBPVWQwTXV1dHZXNUVVQ1ZNQ0JRYUh5Q1IyNVpxL2c2V0JXKzdHbjdQWDFML1NtVUhuSnc0bzlFQzhNYWUrNnEvSjZicG1SeU9Kb25UM1ZvWG5EYWc9PSIsInRpdGxlIjoibjkucGRmIiwibm9pZnJhbWUiOmZhbHNlLCJ1aWQiOiI0ODc4NzM2NjgiLCJ0cyI6MTYzNjI5MjEyOTIxOSwieXUiOiIyODMzNTcyMDExNjI5MTI0OTAxIn0%3D)\n",
    "\n",
    "\n",
    "[Введем интеграл Лебега](https://www.hse.ru/data/2015/02/24/1090761592/matan3mod-9.pdf)\n",
    "\n",
    "[Крутая методичка про интеграл Лебега в теории вероятности для математиков Самарского университета](http://repo.ssau.ru/bitstream/Uchebnye-posobiya/Integral-Lebega-v-teorii-veroyatnostei-Elektronnyi-resurs-ucheb-posobie-68472/1/%D0%9D%D0%BE%D0%B2%D0%B8%D0%BA%D0%BE%D0%B2%20%D0%A1.%D0%AF.%20%D0%98%D0%BD%D1%82%D0%B5%D0%B3%D1%80%D0%B0%D0%BB%20%D0%9B%D0%B5%D0%B1%D0%B5%D0%B3%D0%B0.pdf)"
   ]
  },
  {
   "cell_type": "markdown",
   "metadata": {},
   "source": [
    "**Случайной (скалярной) величиной** $\\xi$ называется такая функция $\\xi: \\Omega \\to \\mathbb{R}$, что для любого борелевского множества $B \\in \\mathcal{B}$ выполнено \n",
    "\n",
    "$$\\xi^{-1}(B) = \\{\\omega|\\xi(\\omega) \\in B\\} \\in \\mathcal{F}$$"
   ]
  },
  {
   "cell_type": "markdown",
   "metadata": {},
   "source": [
    "Напоминание:\n",
    "\n",
    "Минимальная $\\sigma$-алгебру, содержащую все $n$-мерные параллелепипеды $\\{[a_1,b_1) \\times \\ldots \\times [a_n, b_n)\\}$- называют борелевской $\\sigma$-алгеброй над $\\mathbb{R}^{n}$ ($\\mathcal{B}$), а ее элементы - борелевскими множествами множества $\\mathbb{R}^{n}$ ($B$)."
   ]
  },
  {
   "cell_type": "markdown",
   "metadata": {},
   "source": [
    "Всякое борелевское множество на отрезке является измеримым относительно **меры Лебега**, но обратное неверно. "
   ]
  },
  {
   "cell_type": "markdown",
   "metadata": {},
   "source": [
    "-----"
   ]
  },
  {
   "cell_type": "markdown",
   "metadata": {},
   "source": [
    "**Функция распределения случайной (скалярной) величины** $\\xi$ называют отображение $F_{\\xi}: \\mathbb{R} \\to [0,1]$, заданное по правилу \n",
    "$$F_{\\xi}(x) = \\mathbb{P}(\\omega|\\xi(\\omega) < x)$$"
   ]
  },
  {
   "cell_type": "markdown",
   "metadata": {},
   "source": [
    "---"
   ]
  },
  {
   "cell_type": "markdown",
   "metadata": {},
   "source": [
    "Действительная случайная величина $\\xi$ называется **абсолютно непрерывной**, если найдется такая измеримая функция $\\rho_{\\xi}$, называемая **плотностью**, что\n",
    "$$F_{\\xi}(b) - F_{\\xi}(a) = \\int_{a}^{b}\\rho_{\\xi}(x)dx$$\n",
    "\n",
    "В данном случае мы используем **интеграл Лебега**. Он имеет все те же свойства, что и интеграл Римана, но определяется на любом борелевском множестве."
   ]
  },
  {
   "cell_type": "markdown",
   "metadata": {},
   "source": [
    "--------"
   ]
  },
  {
   "cell_type": "markdown",
   "metadata": {},
   "source": [
    "## Задачи на пару <a class=\"anchor\" id=\"chapter2\"></a>"
   ]
  },
  {
   "cell_type": "markdown",
   "metadata": {},
   "source": [
    "**1.** Нарисовать для Параболы суммы Дарбу для Римана и для Лебега\n",
    "\n",
    "**2.** Пример функции, которая неинтегрируема по Риману, но интегрируется по Лебегу\n",
    "\n",
    "**3.**\n",
    "Случайная величина $\\xi$ имеет функцию распределения $F_{\\xi}$, определенную равенством\n",
    "$$F_\\xi(x) =\\left\\{\n",
    "\t\\begin{array}{cc}\n",
    "\t4^{x}, & x\\leq 0 \\\\\n",
    "\t1, & x>0\n",
    "\t\\end{array}\\right.$$\n",
    "* Найдите вероятности $P(\\xi \\geq -2)$ и $P(-1 < \\xi < 0)$. \n",
    "* Найдите плотность $\\rho_{\\xi}(x)$.\n",
    "\n",
    "**4.** Случайная величина $\\xi$ имеет непрерывную функцию распределения $F_{\\xi}(x)$. \n",
    "Найдите функцию распределения случайной величины $\\eta=3-2\\xi$.\n",
    "\n",
    "**5.** Докажите формулу свертки.\n",
    "\n",
    "$$\\rho_{\\xi_1 + \\xi_2}(x) = \\int_{-\\infty}^{\\infty}f_{\\xi_1}(u)f_{\\xi_2}(x - u)du$$\n",
    "\n",
    "**6.** 2 лыжника условились о встрече в промежуток времени $[0,1]$. Момент прихода на встречу каждым выбирается равновероятно. Первый лыжник пришел в момент времени $t_1$, второй лыжник в $t_2$. Пусть $\\theta = |t_1 - t_2|$. Найдите:\n",
    "- функцию распределения $F_{\\theta}(x)$\n",
    "- плотность вероятности $\\rho_{\\theta}(x)$"
   ]
  },
  {
   "cell_type": "markdown",
   "metadata": {},
   "source": [
    "## ДЗ <a class=\"anchor\" id=\"chapter3\"></a>"
   ]
  },
  {
   "cell_type": "markdown",
   "metadata": {},
   "source": [
    "**0.** Нарисовать суммы дарбу и объяснить сходимость гиперболы для Римана и Лебега\n",
    "\n",
    "**1.**\n",
    "В квадрате $[0,1]^2$ наугад выбирается точка $\\omega=(\\omega_1,\\omega_2)$. Случайная величина $\\xi$ задается равенством $\\xi(\\omega)=\\omega_1+\\omega_2$. Найдите функцию распределения $F_{\\xi}(x)$.\n",
    "\n",
    "**2.**\n",
    "Случайная величина $\\xi$ имеет непрерывную функцию распределения $F_{\\xi}(x)$. \n",
    "Найдите функцию распределения случайной величины $\\eta=1-3\\xi^2$.\n",
    "\n",
    "**3.** Плотность распределения случайной величины $\\xi$ задана формулой\n",
    "\t$$f_\\xi(x) =\\left\\{\n",
    "\t\\begin{array}{cc}\n",
    "\tCx^{-3/2}, & x\\geq 1 \\\\\n",
    "\t0, & x<1\n",
    "\t\\end{array}\\right.$$\n",
    "Найти:\n",
    "* постоянную $C$; \n",
    "* плотность распределения $\\eta=1/\\xi$ \n",
    "* $P\\{0,1<\\eta<0,2\\}$.\n",
    "\n",
    "\n",
    "**4.** \n",
    "Функция распределения случайной величины $\\xi$ имеет вид $F_{\\xi}(x)=a + b*arctg(x)$. \n",
    "Найдите:\n",
    "* параметры $a$ и $b$\n",
    "* плотность вероятности.\n",
    "\n",
    "**5.** Случайная величина $\\xi$ имеет распределение Коши с плотностью $\\rho_{\\xi}(x)=\\frac{1}{\\pi(1+x^2)}$. \n",
    "Найдите плотность и функцию распределения случайной величины $\\eta = \\frac{1}{1+\\xi^2}$. \n",
    "\n"
   ]
  },
  {
   "cell_type": "markdown",
   "metadata": {},
   "source": [
    "## Гробы <a class=\"anchor\" id=\"chapter4\"></a>"
   ]
  },
  {
   "cell_type": "markdown",
   "metadata": {},
   "source": [
    "## Доп. материалы\n",
    "\n",
    "[Случайные величины](https://nsu.ru/mmf/tvims/chernova/tv/lec/node23.html#SECTION000710)\n",
    "\n",
    "[Распределения случайных величин](https://nsu.ru/mmf/tvims/chernova/tv/lec/node24.html#SECTION000720)\n",
    "\n",
    "[Функция распределения](https://nsu.ru/mmf/tvims/chernova/tv/lec/node25.html#SECTION000730)\n",
    "\n",
    "[Примеры непрерывных распределений](https://nsu.ru/mmf/tvims/chernova/tv/lec/node27.html#SECTION000750)"
   ]
  },
  {
   "cell_type": "markdown",
   "metadata": {},
   "source": [
    "### Видео"
   ]
  },
  {
   "cell_type": "markdown",
   "metadata": {},
   "source": [
    "[Непрерывные случайные величины](https://stepik.org/lesson/48684/step/1?unit=26454)"
   ]
  }
 ],
 "metadata": {
  "kernelspec": {
   "display_name": "Python 3",
   "language": "python",
   "name": "python3"
  },
  "language_info": {
   "codemirror_mode": {
    "name": "ipython",
    "version": 3
   },
   "file_extension": ".py",
   "mimetype": "text/x-python",
   "name": "python",
   "nbconvert_exporter": "python",
   "pygments_lexer": "ipython3",
   "version": "3.8.8"
  }
 },
 "nbformat": 4,
 "nbformat_minor": 4
}
