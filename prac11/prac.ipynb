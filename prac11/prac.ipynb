{
 "cells": [
  {
   "cell_type": "markdown",
   "metadata": {},
   "source": [
    "# 11. Непрерывное матожидание."
   ]
  },
  {
   "cell_type": "markdown",
   "metadata": {},
   "source": [
    "<img src='data/mem8.png' width=600/>"
   ]
  },
  {
   "cell_type": "markdown",
   "metadata": {
    "id": "bc21279e-5c02-444f-af18-c24c253d2ac0"
   },
   "source": [
    "## Содержание\n",
    "\n",
    "* [Теория](#chapter1)\n",
    "* [Задачи на пару](#chapter2)\n",
    "* [Домашнее задание](#chapter3)\n",
    "* [Гробы](#chapter4)"
   ]
  },
  {
   "cell_type": "markdown",
   "metadata": {},
   "source": [
    "## Теория <a class=\"anchor\" id=\"chapter1\"></a>"
   ]
  },
  {
   "cell_type": "markdown",
   "metadata": {},
   "source": [
    "Математическое ожидание абсолютно непрерывной случайной величины $\\xi$ можно считать по формуле \n",
    "$$\\mathbb{E}[\\xi] = \\int_{-\\infty}^{\\infty}x\\rho_{\\xi}(x)dx = \\int_{-\\infty}^{\\infty}xdF_{\\xi}(x) = \\int_{\\Omega}\\xi(\\omega)P(d\\omega)$$"
   ]
  },
  {
   "cell_type": "markdown",
   "metadata": {},
   "source": [
    "Дисперсия задается аналогично дискретному случаю\n",
    "\n",
    "$$\\mathbb{D}[\\xi] =\\mathbb{E}[\\xi^2] - \\mathbb{E}[\\xi]^2$$"
   ]
  },
  {
   "cell_type": "markdown",
   "metadata": {},
   "source": [
    "Пусть $\\eta = g(\\xi)$, где $g$- монотонная функция, тогда плотность $\\eta$ можно вырадить как\n",
    "\n",
    "$$\\rho_{\\eta}(x) = \\frac{\\rho_{\\xi}(g^{-1}(x))}{g'(g^{-1}(x))}$$"
   ]
  },
  {
   "cell_type": "markdown",
   "metadata": {},
   "source": [
    "**Формула свертки**\n",
    "$$\\rho_{\\xi_1 + \\xi_2}(x) = \\int_{-\\infty}^{\\infty}f_{\\xi_1}(u)f_{\\xi_2}(x - u)du$$"
   ]
  },
  {
   "cell_type": "markdown",
   "metadata": {},
   "source": [
    "## Задачи на пару <a class=\"anchor\" id=\"chapter2\"></a>"
   ]
  },
  {
   "cell_type": "markdown",
   "metadata": {},
   "source": [
    "**1.** Найдите медиану, математическое ожидание и дисперсию случайной величины $\\xi$, имеющей экспоненциальное распределение с показателем $\\alpha>0$.   "
   ]
  },
  {
   "cell_type": "markdown",
   "metadata": {},
   "source": [
    "**2.**\n",
    "Случайная величина $\\xi$ имеет экспоненциальное\n",
    "\tраспределение с параметром $\\alpha > 0$.\n",
    "\tНайти плотности распределения случайных величин:\n",
    "* $\\eta_1=\\sqrt{\\xi}$;\n",
    "* $\\eta_2=\\xi^2$;\n",
    "* $\\eta_3=\\frac{1}{\\alpha}\\ln \\xi$.\n",
    "\n",
    "Найти их матожидание и дисперсию"
   ]
  },
  {
   "cell_type": "markdown",
   "metadata": {
    "id": "aAKcr3AHRsbY"
   },
   "source": [
    "**3.** Пусть $\\xi$ - случайная величина с нормальным распределением $N(a; b)$. Какое распределение будет иметь:\n",
    "* $\\xi + \\alpha$ при $a = 0, b = 1, \\alpha = const$\n",
    "* $\\xi * \\alpha$ при $a = 0, b = 1, \\alpha = const$\n",
    "* $\\xi * \\alpha$ при $b = 1, \\alpha = const$\n",
    "* $\\xi + \\eta$ при $\\xi \\thicksim N(0, 1)$ и $\\eta \\thicksim N(0, 1)$"
   ]
  },
  {
   "cell_type": "markdown",
   "metadata": {},
   "source": [
    "**4.** На смежные стороны единичного квадрата равновероятно ставят по одной точке. Найти матожидание расстояния между ними.  \n",
    "  "
   ]
  },
  {
   "cell_type": "markdown",
   "metadata": {},
   "source": [
    "## ДЗ <a class=\"anchor\" id=\"chapter3\"></a>"
   ]
  },
  {
   "cell_type": "markdown",
   "metadata": {},
   "source": [
    "**1.** Для случайной величины из классного задания 2 найти плотности распределения случайных величин:\n",
    "* $\\eta_4=\\{\\xi\\}$, где $\\{z\\}$ -- дробная часть числа $z$; \n",
    "* $\\eta_5=1-e^{\\alpha\\xi}$."
   ]
  },
  {
   "cell_type": "markdown",
   "metadata": {},
   "source": [
    "**2.** Случайная величина $\\xi$ имеет распределение Парето с показателем $a>0$, если плотность ее распределения задается формулой\n",
    "$$\\rho_\\xi(x) =\\left\\{\n",
    "\t\\begin{array}{cc}\n",
    "\tax^{-a-1}, & x\\geq 1 \\\\\n",
    "\t0, & x<1\n",
    "\t\\end{array}\\right.$$\n",
    "Пусть $a>2$. Найдите математическое ожидание"
   ]
  },
  {
   "cell_type": "markdown",
   "metadata": {
    "id": "WlKvJndfRsbY"
   },
   "source": [
    "**3.** Независимые случайные величины $\\xi$ и $\\eta$ имеют экспоненциальное распределение с параметрами $a$ и $b$ соответственно. Найдите вероятность $P(\\xi\\leqslant\\eta)$.\n"
   ]
  },
  {
   "cell_type": "markdown",
   "metadata": {},
   "source": [
    "**4.**\n",
    "Диаметр круга измерен приближенно. Считая, что\n",
    "\tего величина равномерно распределена в отрезке $[a,b]$, найти\n",
    "\tраспределение площади круга, ее матожидание."
   ]
  },
  {
   "cell_type": "markdown",
   "metadata": {
    "id": "y_cUuC9_RsbY"
   },
   "source": [
    "**5.**\n",
    "* Доказать, что $\\mathcal{N}(0, a^2) * c = \\mathcal{N}(0, c^2a^2)$ и аккуратно рассмотреть случай $c < 0$\n",
    "* Найти распределение $a*\\mathcal{N}(\\mu, \\sigma^2) + b$\n",
    "* Найти $\\mathcal{N}(0, \\sigma_1^2) + \\mathcal{N}(0, \\sigma_2^2)$\n",
    "\n",
    "\n"
   ]
  },
  {
   "cell_type": "markdown",
   "metadata": {},
   "source": [
    "## Гробы <a class=\"anchor\" id=\"chapter4\"></a>"
   ]
  },
  {
   "cell_type": "markdown",
   "metadata": {},
   "source": [
    "**1.** Пусть $\\xi$ имеет экпоненциальное распределение, найдите матожидание, дисперсию и медиану случайной величины $\\eta = \\ln \\arctan \\xi$."
   ]
  },
  {
   "cell_type": "markdown",
   "metadata": {},
   "source": [
    "**2.** (2) У вас есть генератор чисел в вашем ЯП и нужно достаточно плотно выбрать целые числа из отрезка (индекса массива). Иными словами, есть $N$ урн, в которые бросают шары до тех пор, пока в каждой урне не окажется хотя бы по одному шару. Найдите среднее количество брошенных шаров, если известно, что шар попадает в урны равновероятно.\n",
    "   \n"
   ]
  },
  {
   "cell_type": "markdown",
   "metadata": {},
   "source": [
    "**3.**\n",
    "Вероятность сервера выйти из строя за малое время $\\Delta t$ равна $\\lambda\\Delta t+o(\\Delta t)$ при $\\Delta t \\to 0$. В момент времени 0 сервер работает. Найдите среднее время работы сервера. "
   ]
  },
  {
   "cell_type": "markdown",
   "metadata": {},
   "source": [
    "**4.**\n",
    "Команда X сдаёт задачу за малый промежуток времени $\\Delta t$ с вероятностью $p = \\lambda \\Delta t + o(\\Delta t)$ при $\\Delta t \\to 0$. За этот промежуток времени они могут сдать больше одной задачи: в этом случае вероятность сдать $k$ задач равна $p^k$. В начале соревнования у ребят нет решённых задач. Пусть $\\xi$ - случайная величина, показывающая, за сколько времени они сдадут две задачи. Найдите матожидание и дисперсию $\\xi$."
   ]
  },
  {
   "cell_type": "markdown",
   "metadata": {},
   "source": [
    "## Теория"
   ]
  },
  {
   "cell_type": "markdown",
   "metadata": {},
   "source": [
    "[Матожидание](https://nsu.ru/mmf/tvims/chernova/tv/lec/node42.html#SECTION0001010)\n",
    "\n",
    "[Свойства матожидание](https://nsu.ru/mmf/tvims/chernova/tv/lec/node43.html)\n",
    "\n",
    "[Дисперсия](https://nsu.ru/mmf/tvims/chernova/tv/lec/node44.html)\n",
    "\n",
    "[Свойства дисперсии](https://nsu.ru/mmf/tvims/chernova/tv/lec/node45.html)\n",
    "\n",
    "[Примеры матожиданий и дисперсий](https://nsu.ru/mmf/tvims/chernova/tv/lec/node46.html)"
   ]
  },
  {
   "cell_type": "markdown",
   "metadata": {},
   "source": [
    "## Видео"
   ]
  },
  {
   "cell_type": "markdown",
   "metadata": {},
   "source": [
    "[Матожидание](https://stepik.org/lesson/48678/step/1?unit=26449)\n",
    "\n",
    "[Моменты случайной величины](https://stepik.org/lesson/48679/step/1?unit=26450)"
   ]
  }
 ],
 "metadata": {
  "kernelspec": {
   "display_name": "Python 3",
   "language": "python",
   "name": "python3"
  },
  "language_info": {
   "codemirror_mode": {
    "name": "ipython",
    "version": 3
   },
   "file_extension": ".py",
   "mimetype": "text/x-python",
   "name": "python",
   "nbconvert_exporter": "python",
   "pygments_lexer": "ipython3",
   "version": "3.8.8"
  }
 },
 "nbformat": 4,
 "nbformat_minor": 4
}
