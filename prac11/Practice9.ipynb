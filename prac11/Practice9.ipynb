{
 "cells": [
  {
   "cell_type": "markdown",
   "metadata": {},
   "source": [
    "# Практика 9. Абсолютно непрерывные случайные величины. Матожидание, дисперсия."
   ]
  },
  {
   "cell_type": "markdown",
   "metadata": {},
   "source": [
    "![title](mem8.png)"
   ]
  },
  {
   "cell_type": "markdown",
   "metadata": {},
   "source": [
    "## Мотивация"
   ]
  },
  {
   "cell_type": "markdown",
   "metadata": {},
   "source": [
    "## Теория"
   ]
  },
  {
   "cell_type": "markdown",
   "metadata": {},
   "source": [
    "[Матожидание](https://nsu.ru/mmf/tvims/chernova/tv/lec/node42.html#SECTION0001010)\n",
    "\n",
    "[Свойства матожидание](https://nsu.ru/mmf/tvims/chernova/tv/lec/node43.html)\n",
    "\n",
    "[Дисперсия](https://nsu.ru/mmf/tvims/chernova/tv/lec/node44.html)\n",
    "\n",
    "[Свойства дисперсии](https://nsu.ru/mmf/tvims/chernova/tv/lec/node45.html)\n",
    "\n",
    "[Примеры матожиданий и дисперсий](https://nsu.ru/mmf/tvims/chernova/tv/lec/node46.html)"
   ]
  },
  {
   "cell_type": "markdown",
   "metadata": {},
   "source": [
    "## Видео"
   ]
  },
  {
   "cell_type": "markdown",
   "metadata": {},
   "source": [
    "[Матожидание](https://stepik.org/lesson/48678/step/1?unit=26449)\n",
    "\n",
    "[Моменты случайной величины](https://stepik.org/lesson/48679/step/1?unit=26450)"
   ]
  },
  {
   "cell_type": "markdown",
   "metadata": {},
   "source": [
    "## Задачи на пару"
   ]
  },
  {
   "cell_type": "markdown",
   "metadata": {},
   "source": [
    "**1.**\n",
    "Вероятность сервера выйти из строя за малое время $\\Delta t$ равна $\\lambda\\Delta t+o(\\Delta t)$ при $\\Delta t \\to 0$. В момент времени 0 сервер работает. Найдите среднее время работы сервера. "
   ]
  },
  {
   "cell_type": "markdown",
   "metadata": {},
   "source": [
    "**2.**\n",
    "Случайная величина $\\xi$ имеет экспоненциальное\n",
    "\tраспределение с параметром $\\alpha > 0$.\n",
    "\tНайти плотности распределения случайных величин:\n",
    "* $\\eta_1=\\sqrt{\\xi}$;\n",
    "* $\\eta_2=\\xi^2$;\n",
    "* $\\eta_3=\\frac{1}{\\alpha}\\ln \\xi$."
   ]
  },
  {
   "cell_type": "markdown",
   "metadata": {},
   "source": [
    "**3.** Найдите медиану, математическое ожидание и дисперсию случайной величины $\\xi$, имеющей экспоненциальное распределение с показателем $\\alpha>0$.   "
   ]
  },
  {
   "cell_type": "markdown",
   "metadata": {},
   "source": [
    "**4.** На смежные стороны единичного квадрата равновероятно ставят по одной точке. Найти матожидание и дисперсию расстояния между ними.  \n",
    "  "
   ]
  },
  {
   "cell_type": "markdown",
   "metadata": {},
   "source": [
    "## ДЗ"
   ]
  },
  {
   "cell_type": "markdown",
   "metadata": {},
   "source": [
    "**1.**Для случайной величины из классного задания 2 найти плотности распределения случайных величин:\n",
    "* $\\eta_4=\\{\\xi\\}$, где $\\{z\\}$ -- дробная часть числа $z$; \n",
    "* $\\eta_5=1-e^{\\alpha\\xi}$."
   ]
  },
  {
   "cell_type": "markdown",
   "metadata": {},
   "source": [
    "**2.** Случайная величина $\\xi$ имеет распределение Парето с показателем $a>0$, если плотность ее распределения задается формулой\n",
    "$$\\rho_\\xi(x) =\\left\\{\n",
    "\t\\begin{array}{cc}\n",
    "\tax^{-a-1}, & x\\geq 1 \\\\\n",
    "\t0, & x<1\n",
    "\t\\end{array}\\right.$$\n",
    "Пусть $a>2$. Найдите математическое ожидание, дисперсию и медиану $\\xi$."
   ]
  },
  {
   "cell_type": "markdown",
   "metadata": {},
   "source": [
    "**4.**\n",
    "Диаметр круга измерен приближенно. Считая, что\n",
    "\tего величина равномерно распределена в отрезке $[a,b]$, найти\n",
    "\tраспределение площади круга, ее среднее значение и дисперсию."
   ]
  },
  {
   "cell_type": "markdown",
   "metadata": {},
   "source": [
    "**5.**\n",
    "Команда X сдаёт задачу за малый промежуток времени $\\Delta t$ с вероятностью $p = \\lambda \\Delta t + o(\\Delta t)$ при $\\Delta t \\to 0$. За этот промежуток времени они могут сдать больше одной задачи: в этом случае вероятность сдать $k$ задач равна $p^k$. В начале соревнования у ребят нет решённых задач. Пусть $\\xi$ - случайная величина, показывающая, за сколько времени они сдадут две задачи. Найдите матожидание и дисперсию $\\xi$."
   ]
  },
  {
   "cell_type": "markdown",
   "metadata": {},
   "source": [
    "## Гробы"
   ]
  },
  {
   "cell_type": "markdown",
   "metadata": {},
   "source": [
    "**1.** Пусть $\\xi$ имеет экпоненциальное распределение, найдите матожидание, дисперсию и медиану случайной величины $\\eta = \\ln \\arctan \\xi$."
   ]
  }
 ],
 "metadata": {
  "kernelspec": {
   "display_name": "Python 3",
   "language": "python",
   "name": "python3"
  },
  "language_info": {
   "codemirror_mode": {
    "name": "ipython",
    "version": 3
   },
   "file_extension": ".py",
   "mimetype": "text/x-python",
   "name": "python",
   "nbconvert_exporter": "python",
   "pygments_lexer": "ipython3",
   "version": "3.8.8"
  }
 },
 "nbformat": 4,
 "nbformat_minor": 4
}
