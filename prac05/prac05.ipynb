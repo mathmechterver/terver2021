{
 "cells": [
  {
   "cell_type": "markdown",
   "metadata": {},
   "source": [
    "# 5. Схема Бернулли. Теорема Пуассона."
   ]
  },
  {
   "cell_type": "markdown",
   "metadata": {},
   "source": [
    "<img src='data/vinnie.png' width=300/>"
   ]
  },
  {
   "cell_type": "markdown",
   "metadata": {},
   "source": [
    "## Содержание\n",
    "\n",
    "* [Теория](#chapter1)\n",
    "* [Задачи на пару](#chapter2)\n",
    "* [Домашнее задание](#chapter3)\n",
    "* [Гробы](#chapter4)"
   ]
  },
  {
   "cell_type": "markdown",
   "metadata": {},
   "source": [
    "## Теория <a class=\"anchor\" id=\"chapter1\"></a>\n",
    "\n",
    "Геометрическое распределение\n",
    "$$P(k)= p(1-p)^k$$\n",
    "\n",
    "Биноминальное распределение\n",
    "$$P_n(k) = C_n^kp^k(1-p)^{n-k}$$\n",
    "\n",
    "Распределение Пуассона\n",
    "$$P(k) = \\frac{\\lambda^{k}e^{-\\lambda}}{k!}$$\n"
   ]
  },
  {
   "cell_type": "markdown",
   "metadata": {},
   "source": [
    "## Задачи на пару <a class=\"anchor\" id=\"chapter2\"></a>"
   ]
  },
  {
   "cell_type": "markdown",
   "metadata": {},
   "source": [
    "**1.**\n",
    "В Терверляндии надвигаются выборы в пармаламент. В бюллетени находится $m$ кандидатов, из которых $m_1$ либералов и $m_2$ консерваторов $(m_1 + m_2 = m)$. В связи с эпидемией COVID19 голосование длится $n$ дней. Каждый день старушка Изабелла Джонс приходит на участок и голосует. Она плохо видит, поэтому каждый раз голосует за случайного кандидата. Найдите вероятность того, что Изабелла Джонс ровно $r$ раз из $n$ проголосует за какого-нибудь либерала."
   ]
  },
  {
   "cell_type": "markdown",
   "metadata": {},
   "source": [
    "**2.** На завод изготовления тостеров едет ревизор. Ему очень хочется доказать, что качество тостеров недостаточно хорошее, но при этом вероятность отказа каждого прибора при испытании равна 0,2. Сколько таких приборов нужно испытать ревизору, чтобы с вероятностью не менее 0,9 получить не меньше трех отказов?"
   ]
  },
  {
   "cell_type": "markdown",
   "metadata": {},
   "source": [
    "**3.** Доказать теорему Пуассона: \n",
    "Eсли\n",
    "* $\\lim_{n \\to \\infty}p_n = 0$\n",
    "* $\\lim_{n\\to \\infty}np_n = \\lambda$\n",
    "* $\\lambda > 0$\n",
    "* k - константа\n",
    "то\n",
    "$$\\lim_{n \\to \\infty}C_n^{k}p_n^k q_n^{n-k} = \\frac{\\lambda^{k}e^{-\\lambda}}{k!}$$"
   ]
  },
  {
   "cell_type": "markdown",
   "metadata": {},
   "source": [
    "**4.** Среди семян кукурузы 0.6% семян сорняков. Какова вероятность при случайном отборе $n$ семян обнаружить \n",
    "* 0 семян сорняков, при $n = 10, 100, 1000, 10000$\n",
    "* ровно 6 семян сорняков, при $n = 1000$\n",
    "* меньше 3 семян сорняков, при $n = 1000$\n",
    "* больше 2 семян сорняков, при $n = 1000$"
   ]
  },
  {
   "cell_type": "markdown",
   "metadata": {},
   "source": [
    "**5)** \n",
    "* Найти вероятность того, что в классе из 23 человек, не менее двух учеников родились в один день.\n",
    "* $n$ студентов записались на курс теории вероятностей. При каком наименьшем $n$ с вероятностью а) $\\frac{2}{3}$ б) $\\frac{4}{5}$ окажется, что хотя бы двое студентов отмечают день рожденья в один день. \n",
    "\n",
    "Для простоты считайте, что никто не родился 29 февраля. В ответе приведите найденные значения, разделенные пробелом."
   ]
  },
  {
   "cell_type": "markdown",
   "metadata": {},
   "source": [
    "## ДЗ (все задачи по 1 баллу) <a class=\"anchor\" id=\"chapter3\"></a>"
   ]
  },
  {
   "cell_type": "markdown",
   "metadata": {},
   "source": [
    "**1.** Стрелок сделал 30 выстрелов с вероятностью попадания при отдельном выстреле 0,3. Найти вероятность того, что при этом будет 8 попаданий."
   ]
  },
  {
   "cell_type": "markdown",
   "metadata": {},
   "source": [
    "**2.** Вероятность попадания в цель при одном выстреле равна 0,001. Для поражения цели необходимо не менее двух попаданий. Произведено 5000 выстрелов. Найти вероятность поражения цели"
   ]
  },
  {
   "cell_type": "markdown",
   "metadata": {},
   "source": [
    "**3** В двух спичечных коробках имеется по n спичек. На каждом шаге наугад выбирается коробок, и из него удаляется (используется) одна спичка. Найдите вероятность того, что в момент, когда один из коробков опустеет, в другом останется k спичек."
   ]
  },
  {
   "cell_type": "markdown",
   "metadata": {},
   "source": [
    "**4** Некоторая машина состоит из 10 тысяч деталей. Каждая деталь независимо от других деталей может оказаться неисправной с вероятностью $p_i$, причём \n",
    "* $1000$ из всех деталей имеют вероятность неисправности $p_1 = 0,0003$\n",
    "* $2000$ из всех деталей $p_2 = 0,0002$\n",
    "* $7000$ оставшихся деталей $p_3 = 0,0001$\n",
    "\n",
    "Машина не работает, если в ней неисправны хотя бы две детали. Найти вероятность того, что машина не будет работать."
   ]
  },
  {
   "cell_type": "markdown",
   "metadata": {},
   "source": [
    "**5** У театральной кассы стоят в очереди $2n$ человек. Среди них $n$ человек имеют лишь банкноты по $1000$ рублей, а остальные — только банкноты по $500$ рублей. Билет стоит $500$ рублей. Каждый покупатель приобретает по одному билету. В начальный момент в кассе нет денег. Чему равна вероятность того, что никто не будет ждать сдачу?"
   ]
  },
  {
   "cell_type": "markdown",
   "metadata": {},
   "source": [
    "## Гробы <a class=\"anchor\" id=\"chapter4\"></a>"
   ]
  },
  {
   "cell_type": "markdown",
   "metadata": {},
   "source": [
    "**1 (1)** http://codeforces.com/problemset/problem/109/B"
   ]
  },
  {
   "cell_type": "markdown",
   "metadata": {},
   "source": [
    "**2 (1)** Пусть $N$ -- размер некоторой популяции, который требуется оценить ``минимальными средствами`` без простого пересчета всех элементов этой совокупности. Подобного рода вопрос интересен, например, при оценке числа жителей в той или иной стране, городе и т. д. В 1786 г. Лаплас для оценки числа $N$ жителей во Франции предложил следующий метод. Выберем некоторое число, скажем, $M$, элементов популяции и пометим их. Затем возвратим их в основную совокупность и предположим, что они ``хорошо перемешаны`` с немаркированными элементами. После этого возьмем из ``перемешанной`` популяции $n$ элементов. Обозначим через $X$ число маркированных элементов (в этой выборке из $n$ элементов).\n",
    "* Показать, что вероятность $P_{N,M,n}\\{X = m\\}$ того, что $X=m$ задается (при фиксированных $N,M,n$) формулой гипергеометрического распределения $$P_{N,M,n}\\{X = m\\}=\\frac{C_{M}^mC_{N-M}^{n-m}}{C_N^n}. $$\n",
    "* Считая $M$, $n$ и $m$ заданными, найти максимум $P_{N,M,n}\\{X = m\\}$ по $N$, т. е. ``наиболее правдоподобный`` объем всей популяции, приводящий к тому, что число маркированных элементов оказалось равным $m$. Показать, что так найденное наиболее правдоподобное значение $N$ (называемое оценкой максимального правдоподобия) определяется формулой $$\\widehat{N}=\\left[\\frac{Mn}{m}\\right],$$ где $[\\cdot]$ -- целая часть."
   ]
  },
  {
   "cell_type": "markdown",
   "metadata": {},
   "source": [
    "## Мотивация\n",
    "[Пуассон в футбольных ставках](https://habr.com/en/post/318150/)"
   ]
  },
  {
   "cell_type": "markdown",
   "metadata": {},
   "source": [
    "## Видеоматериалы,\n",
    "\n",
    "[Схема Бернулли](https://stepik.org/lesson/48665/step/1)\n",
    "\n",
    "[Теорема Пуассона](https://stepik.org/lesson/48671/step/1)"
   ]
  },
  {
   "cell_type": "markdown",
   "metadata": {},
   "source": [
    "## Теория\n",
    "[Схема Бернулли](https://nsu.ru/mmf/tvims/chernova/tv/lec/node17.html)\n",
    "\n",
    "[Теорема Пуассона](https://nsu.ru/mmf/tvims/chernova/tv/lec/node21.html)"
   ]
  },
  {
   "cell_type": "code",
   "execution_count": 1,
   "metadata": {},
   "outputs": [],
   "source": [
    "from scipy.stats import bernoulli, binom, geom, poisson\n",
    "import matplotlib.pyplot as plt\n",
    "import numpy as np"
   ]
  },
  {
   "cell_type": "code",
   "execution_count": 3,
   "metadata": {},
   "outputs": [
    {
     "data": {
      "image/png": "[encoded data removed]",
      "text/plain": [
       "<Figure size 432x288 with 1 Axes>"
      ]
     },
     "metadata": {
      "needs_background": "light"
     },
     "output_type": "display_data"
    }
   ],
   "source": [
    "n, p = 100, 0.4\n",
    "x = np.arange(binom.ppf(0.01, n, p), binom.ppf(0.99, n, p))\n",
    "\n",
    "fig, ax = plt.subplots(1, 1)\n",
    "ax.plot(x, binom.pmf(x, n, p), 'bo', ms=8, label='$n = 100, p = 0.4$')\n",
    "ax.legend(loc='best', frameon=False)\n",
    "plt.grid()\n",
    "plt.show()"
   ]
  },
  {
   "cell_type": "code",
   "execution_count": 12,
   "metadata": {},
   "outputs": [
    {
     "data": {
      "image/png": "[encoded data removed]",
      "text/plain": [
       "<Figure size 432x288 with 1 Axes>"
      ]
     },
     "metadata": {
      "needs_background": "light"
     },
     "output_type": "display_data"
    }
   ],
   "source": [
    "lamb05 = 0.5\n",
    "x05 = np.arange(poisson.ppf(0, lamb05), poisson.ppf(0.999999, lamb01))\n",
    "lamb1 = 1\n",
    "x1 = np.arange(poisson.ppf(0, lamb1), poisson.ppf(0.999999, lamb1))\n",
    "lamb5 = 5\n",
    "x5 = np.arange(poisson.ppf(0, lamb5), poisson.ppf(0.999999, lamb5))\n",
    "lamb7 = 7\n",
    "x7 = np.arange(poisson.ppf(0, lamb7), poisson.ppf(0.999999, lamb7))\n",
    "lamb20 = 20\n",
    "x20 = np.arange(poisson.ppf(0, lamb20), poisson.ppf(0.999, lamb20))\n",
    "\n",
    "fig, ax = plt.subplots(1, 1)\n",
    "ax.plot(x01, poisson.pmf(x01, lamb01), 'bo-', ms=8, color='black', label='lambda=0.1')\n",
    "ax.plot(x1, poisson.pmf(x1, lamb1), 'bo-', ms=8, color='green', label='lambda=1')\n",
    "ax.plot(x5, poisson.pmf(x5, lamb5), 'bo-', ms=8, label='lambda=5')\n",
    "ax.plot(x7, poisson.pmf(x7, lamb7), 'bo-', ms=8, color='red', label='lambda=7')\n",
    "ax.plot(x20, poisson.pmf(x20, lamb20), 'bo-', ms=8, color='yellow', label='lambda=20')\n",
    "\n",
    "ax.legend(loc='best', frameon=False)\n",
    "plt.grid()\n",
    "plt.show()"
   ]
  }
 ],
 "metadata": {
  "kernelspec": {
   "display_name": "Python 3",
   "language": "python",
   "name": "python3"
  },
  "language_info": {
   "codemirror_mode": {
    "name": "ipython",
    "version": 3
   },
   "file_extension": ".py",
   "mimetype": "text/x-python",
   "name": "python",
   "nbconvert_exporter": "python",
   "pygments_lexer": "ipython3",
   "version": "3.8.8"
  }
 },
 "nbformat": 4,
 "nbformat_minor": 4
}
