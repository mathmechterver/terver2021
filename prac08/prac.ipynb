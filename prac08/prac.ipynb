{
  "nbformat": 4,
  "nbformat_minor": 5,
  "metadata": {
    "kernelspec": {
      "display_name": "Python 3",
      "language": "python",
      "name": "python3"
    },
    "language_info": {
      "codemirror_mode": {
        "name": "ipython",
        "version": 3
      },
      "file_extension": ".py",
      "mimetype": "text/x-python",
      "name": "python",
      "nbconvert_exporter": "python",
      "pygments_lexer": "ipython3",
      "version": "3.8.8"
    },
    "colab": {
      "name": "Copy of prac.ipynb",
      "provenance": []
    }
  },
  "cells": [
    {
      "cell_type": "markdown",
      "metadata": {
        "id": "cacaa71b-21e4-495b-9ea6-c09c111cc47a"
      },
      "source": [
        "# 8. Дисперсия. Ковариация. Корреляция."
      ],
      "id": "cacaa71b-21e4-495b-9ea6-c09c111cc47a"
    },
    {
      "cell_type": "markdown",
      "metadata": {
        "id": "aa2c7ff7-6a2b-4122-a178-d22099e36003"
      },
      "source": [
        "<img src='https://github.com/mathmechterver/terver2021/blob/main/prac08/data/mem.jpeg?raw=1' width=400/>"
      ],
      "id": "aa2c7ff7-6a2b-4122-a178-d22099e36003"
    },
    {
      "cell_type": "markdown",
      "metadata": {
        "id": "bc21279e-5c02-444f-af18-c24c253d2ac0"
      },
      "source": [
        "## Содержание\n",
        "\n",
        "* [Теория](#chapter1)\n",
        "* [Задачи на пару](#chapter2)\n",
        "* [Домашнее задание](#chapter3)\n",
        "* [Гробы](#chapter4)"
      ],
      "id": "bc21279e-5c02-444f-af18-c24c253d2ac0"
    },
    {
      "cell_type": "markdown",
      "metadata": {
        "id": "1ccc6966-6a73-407d-8295-08155c2fa907"
      },
      "source": [
        "## Теория <a class=\"anchor\" id=\"chapter1\"></a>"
      ],
      "id": "1ccc6966-6a73-407d-8295-08155c2fa907"
    },
    {
      "cell_type": "markdown",
      "metadata": {
        "id": "6516249c-acb3-4f9c-b22c-8a4c6ab8d000"
      },
      "source": [
        "Дисперсия случайной величины\n",
        "$$\\mathbb{D}[\\xi] = \\mathbb{E}[\\xi - \\mathbb{E}[\\xi]]^2 = \\mathbb{E}[\\xi^2] - \\mathbb{E}[\\xi]^2$$"
      ],
      "id": "6516249c-acb3-4f9c-b22c-8a4c6ab8d000"
    },
    {
      "cell_type": "markdown",
      "metadata": {
        "id": "bdacc182-d6b7-4611-9e75-9e91e8684cee"
      },
      "source": [
        "Ковариация двух случайных величин\n",
        "$$cov(\\xi,\\mu) = \\mathbb{E}\\Big[(\\xi - \\mathbb{E}[\\xi])(\\mu - \\mathbb{E}[\\mu])\\Big]$$"
      ],
      "id": "bdacc182-d6b7-4611-9e75-9e91e8684cee"
    },
    {
      "cell_type": "markdown",
      "metadata": {
        "id": "c50fb281-5025-4773-943f-7bebf175fa2f"
      },
      "source": [
        "Корреляция двух случайных величин\n",
        "\n",
        "$$cor(\\xi, \\mu) = \\frac{cov(\\xi, \\mu)}{\\mathbb{D}[\\xi]\\mathbb{D}[\\mu]}$$"
      ],
      "id": "c50fb281-5025-4773-943f-7bebf175fa2f"
    },
    {
      "cell_type": "markdown",
      "metadata": {
        "id": "0cb47f80-d067-463e-826a-f8cdd280d71e"
      },
      "source": [
        "## Задачи на пару <a class=\"anchor\" id=\"chapter2\"></a>"
      ],
      "id": "0cb47f80-d067-463e-826a-f8cdd280d71e"
    },
    {
      "cell_type": "markdown",
      "metadata": {
        "id": "db73f064-7d5a-455a-aac1-b56609d7419f"
      },
      "source": [
        "**0.** Показать, что $\\mathbb{E}[\\xi - \\mathbb{E}[\\xi]]^2 = \\mathbb{E}[\\xi^2] - \\mathbb{E}[\\xi]^2$"
      ],
      "id": "db73f064-7d5a-455a-aac1-b56609d7419f"
    },
    {
      "cell_type": "markdown",
      "metadata": {
        "id": "b938ad7c-ac37-4832-a68f-57e968a71f05"
      },
      "source": [
        "**1.** Пусть $\\xi$ и $\\eta$ - независимые случайные величины. Доказать, что \n",
        "* $E\\xi\\eta = E \\xi E \\eta$.\n",
        "* $D(\\xi + \\mu) = D\\xi + D\\mu$?\n",
        "\n",
        "Показать, что в общем случае это неправда (привести пример).\n",
        "\n",
        "На какую величину сумма дисперсий будет отличаться от дисперсии сумм?"
      ],
      "id": "b938ad7c-ac37-4832-a68f-57e968a71f05"
    },
    {
      "cell_type": "markdown",
      "metadata": {
        "id": "3be36d94-8122-432c-afeb-6b3631cebe48"
      },
      "source": [
        "**2.**\n",
        "Докажите свойства ковариаций и корреляций\n",
        "- $cov(\\xi, \\mu) = cov(\\mu, \\xi)$\n",
        "- $cov(\\alpha\\xi, \\mu) = \\alpha cov(\\xi, \\mu)$\n",
        "- $cov(\\xi_1 + \\xi_2, \\mu) = cov(\\xi_1, \\mu) + cov(\\xi_2, \\mu)$\n",
        "- $cov(\\xi_1, \\xi_2) = \\mathbb{E}\\xi_1\\xi_2 - \\mathbb{E}\\xi_1\\mathbb{E}\\xi_2$\n",
        "- $-1\\le cor(\\xi_1, \\xi_2) \\le 1$\n",
        "- $cov(\\xi, \\mu)^2 \\leq \\mathbb{D}[\\xi]\\mathbb{D}[\\mu]$"
      ],
      "id": "3be36d94-8122-432c-afeb-6b3631cebe48"
    },
    {
      "cell_type": "markdown",
      "metadata": {
        "id": "6a017997-a8dd-4aa8-a80e-a61b4db916d5"
      },
      "source": [
        "\n",
        "**3.**\n",
        "Двумерное распределение пары целочисленных случайных величин $\\xi$ и $\\eta$ задаётся с помощью таблицы, где в пересечении столбца $\\xi = i$ и строки $\\eta = j$ находится вероятность $P\\lbrace{\\xi = i, \\eta = j\\rbrace}$. \n",
        "\n",
        "|                   | $\\xi = -1$  | $\\xi = 0$ | $\\xi = 1$ |\n",
        "|-------------------|-----------------|---------|---------|\n",
        "|  $\\eta$ $=$ $-1$  | $\\frac{1}{8}$   | $\\frac{1}{12}$ |$\\frac{7}{24}$|\n",
        "|  $\\eta$ $=$ $1$   | $\\frac{5}{24}$  | $\\frac{1}{6}$ |$\\frac{1}{8}$|\n",
        "\n",
        "Найти:\n",
        "\n",
        "- Дисперсию: $D(\\xi), D(\\eta)$,\n",
        "- Ковариацию:  $Cov(\\xi, \\eta) $,\n",
        "- Корреляцию: $\\rho$ $(\\xi, \\eta)$\n"
      ],
      "id": "6a017997-a8dd-4aa8-a80e-a61b4db916d5"
    },
    {
      "cell_type": "markdown",
      "metadata": {
        "id": "031e9284-efcc-41e7-b386-d1ea722ff824"
      },
      "source": [
        "**4.**\n",
        "Найти коэффициент корреляции между числом ``единиц`` и числом ``шестёрок`` при $n$ бросаниях правильной игральной кости.\n",
        "\n",
        "**5.** Монета с вероятностью выпадения герба 0.5 и с вероятностью выпадения решетки 0.5 бросается 7 раз. Найти корреляцию (коэффициент корреляции) между числом гербов, выпадающих при первых 5 бросках, и числом решеток, выпадающих при последних 4 бросках."
      ],
      "id": "031e9284-efcc-41e7-b386-d1ea722ff824"
    },
    {
      "cell_type": "markdown",
      "metadata": {
        "id": "77ed0c62-73bb-4299-bb71-c870b4e4c0fa"
      },
      "source": [
        "**6.**  Вероятность дождя в субботу 0.5, вероятность дождя в воскресенье 0.3. Корреляция между наличием дождя в субботу и наличием дождя в воскресенье равна r. Какова вероятность того, что в выходные вообще не будет дождя?"
      ],
      "id": "77ed0c62-73bb-4299-bb71-c870b4e4c0fa"
    },
    {
      "cell_type": "markdown",
      "metadata": {
        "id": "99585a18-23c7-45ed-a1da-955b07d1e474"
      },
      "source": [
        "## ДЗ <a class=\"anchor\" id=\"chapter3\"></a>"
      ],
      "id": "99585a18-23c7-45ed-a1da-955b07d1e474"
    },
    {
      "cell_type": "markdown",
      "metadata": {
        "id": "38696ec7-4dec-4947-bf00-10d5533e8512"
      },
      "source": [
        "**1.**\n",
        "Двумерное распределение пары целочисленных случайных величин $\\xi$ и $\\eta$ задаётся с помощью таблицы, где в пересечении столбца $\\xi = i$ и строки $\\eta = j$ находится вероятность $P\\lbrace{\\xi = i, \\eta = j\\rbrace}$. \n",
        "\n",
        "|               | $\\xi = 3$       | $\\xi = 4$     |\n",
        "|---------------|-----------------|---------------|\n",
        "|  $\\eta = 1$   | $\\frac{5}{12}$  | $\\frac{7}{12}$|\n",
        "|  $\\eta = 2$   | $\\frac{11}{12}$ | $\\frac{1}{12}$|\n",
        "\n",
        "Найти:\n",
        "\n",
        "- Дисперсию: $D(\\xi), D(\\eta)$,\n",
        "- Ковариацию:  $Cov(\\xi, \\eta) $,\n",
        "- Корреляцию: $\\rho$ $(\\xi, \\eta)$\n"
      ],
      "id": "38696ec7-4dec-4947-bf00-10d5533e8512"
    },
    {
      "cell_type": "markdown",
      "metadata": {
        "id": "387405af-b1a2-4319-bdc0-0b12167d501f"
      },
      "source": [
        "**2.** Даны 2 случайные величины X и Y, принимающие значения {1, 2, 3, 4}. X c вероятностями 1/4 каждое и Y c вероятностями 1/10, 2/10, 3/10 и 4/10 соответственно."
      ],
      "id": "387405af-b1a2-4319-bdc0-0b12167d501f"
    },
    {
      "cell_type": "markdown",
      "metadata": {
        "id": "9d59f493-10e7-4b15-a2b1-e8b947a65177"
      },
      "source": [
        "**3.** Пусть случайная величина $Z$ принимает значения 0, $\\frac{\\pi}{2}$, $\\pi$ каждое с вероятностью $\\frac{1}{3}$. Показать, что случайные величины $\\sin{Z}$ и $\\cos{Z}$ - зависимые. Найти $cov(\\sin{Z}, \\cos{Z})$."
      ],
      "id": "9d59f493-10e7-4b15-a2b1-e8b947a65177"
    },
    {
      "cell_type": "markdown",
      "metadata": {
        "id": "f5bfbc14-4afa-43b5-a4de-427182bc079b"
      },
      "source": [
        "**4.** Из урны с М белыми и N-М черными шарами по схеме случайного выбора без возвращения извлекают n шаров. Положим $Y_i = 1$ если i-й извлечённый шар белый; $Y_j=0$ если i-й шар черный $(i = 1, \\ldots, n)$. Найти $cov(Y_i, Y_j) i\\neq j$"
      ],
      "id": "f5bfbc14-4afa-43b5-a4de-427182bc079b"
    },
    {
      "cell_type": "markdown",
      "metadata": {
        "id": "b8ea2c56-bc82-4d95-a4bf-1413ef7cb5e2"
      },
      "source": [
        "**5.**\n",
        "Найти коэффициент корреляции между $\\xi$ и $\\xi^2$, если:\n",
        "\n",
        "- (0.5) $P\\lbrace{\\xi = 0\\rbrace} = 1/3, P\\lbrace{\\xi = 1\\rbrace} = 1/3, P\\lbrace{\\xi = -1\\rbrace} = 1/3$ - данный пример показывает, что существуют зависимые случайные величины, для которых $D(\\xi + \\mu) = D\\xi + D\\mu$ (см. задание 2 из классной работы)\n",
        "\n",
        "\n",
        "- (0.5) $P\\lbrace{\\xi = 0\\rbrace} = 1/3, P\\lbrace{\\xi = 1\\rbrace} = 1/2, P\\lbrace{\\xi = -1\\rbrace} = 1/6$;"
      ],
      "id": "b8ea2c56-bc82-4d95-a4bf-1413ef7cb5e2"
    },
    {
      "cell_type": "markdown",
      "metadata": {
        "id": "0a41bd60-39df-445f-afef-161b719979b8"
      },
      "source": [
        "## Гробы <a class=\"anchor\" id=\"chapter4\"></a>"
      ],
      "id": "0a41bd60-39df-445f-afef-161b719979b8"
    },
    {
      "cell_type": "markdown",
      "metadata": {
        "id": "7a7c1294-42c0-4693-bd76-ce50db57bee7"
      },
      "source": [
        "**1.(3 балла)** $a,b,c$ - сл. величины с 0 матожиданием.\n",
        "$corr(a,c) = corr(b,c) = 0.9$\n",
        "\n",
        "Чему может быть равна $corr(a,b)$?"
      ],
      "id": "7a7c1294-42c0-4693-bd76-ce50db57bee7"
    },
    {
      "cell_type": "markdown",
      "metadata": {
        "id": "14b6e9eb-1152-42b5-a72e-c24b24f4a95b"
      },
      "source": [
        "**2. (1 балл)** Доказать, что если для сл.в. $\\xi$, $\\eta$ для любых $m,n$ выполнено $\\mathbb{E}\\xi^{m}\\mu^{n} = \\mathbb{E}\\xi^{m}\\mathbb{E}\\mu^{n}$, то $\\xi$ и $\\mu$ - независимы."
      ],
      "id": "14b6e9eb-1152-42b5-a72e-c24b24f4a95b"
    },
    {
      "cell_type": "markdown",
      "metadata": {
        "id": "5c9afc34-b205-44f8-b367-1c357c98ecac"
      },
      "source": [
        "**3. (1 балл)** \n",
        "Пусть $\\xi_1, \\xi_2, ... $ - независимые случайные величины, принимающие значения $1$ и $0$ с вероятностями $p$ и $1 - p$ соответственно. Найти среднее значение и дисперсию суммы $\\zeta = \\eta_1 + ... + \\eta_n$, если:\n",
        "- $\\eta_i = \\xi_i \\xi_{i + 1}$;\n",
        "- $\\eta_i = \\xi_i \\xi_{i + 1} \\xi_{i + 2}$;\n",
        "- Если $\\eta_i$ задана правилом:\n",
        "    - $\\eta_i = 0$, если $\\xi_i + \\xi_{i + 1}$ - чётное число, \n",
        "    - $\\eta_i = 1$, иначе"
      ],
      "id": "5c9afc34-b205-44f8-b367-1c357c98ecac"
    },
    {
      "cell_type": "markdown",
      "metadata": {
        "id": "ac0b3515-1171-485f-8738-5bb6f279ace5"
      },
      "source": [
        "**4. (1 балл)**\n",
        "Пусть в урне содержится $N$ шаров, из них $a$ белых, $b$ черных и $c$ красных, $a + b + c = N$. Вынимается $n$ шаров, и пусть среди них $\\xi$ белых и $\\eta$ черных. \n",
        "\n",
        "- Показать, что если совершаемый выбор –– это «выбор\n",
        "с возвращением», то $Cov(\\xi, \\eta) = -npq$, где $p = \\frac{a}{N}$ и $q = \\frac{b}{N}$. Если же производится «выбор без возвращения», то $Cov(\\xi, \\eta) = -npq\\frac{N - n}{N - 1}$.\n",
        "\n",
        "- Показать также, что в обоих случаях корреляция $\\rho(\\xi, \\eta) = -\\sqrt{\\frac{pq}{(1 - p)(1 - q)}}$."
      ],
      "id": "ac0b3515-1171-485f-8738-5bb6f279ace5"
    },
    {
      "cell_type": "markdown",
      "metadata": {
        "id": "c902a682-72ed-410c-8dbd-0ee3b7aec16d"
      },
      "source": [
        "## Доп. Материалы\n",
        "\n",
        "[Ковариация](https://nsu.ru/mmf/tvims/chernova/tv/lec/node48.html#SECTION0001110)\n",
        "\n",
        "[Корреляция](https://nsu.ru/mmf/tvims/chernova/tv/lec/node49.html#SECTION0001120)"
      ],
      "id": "c902a682-72ed-410c-8dbd-0ee3b7aec16d"
    }
  ]
}