{
 "cells": [
  {
   "cell_type": "markdown",
   "metadata": {},
   "source": [
    "# Практика 10. Совместные распределения. Ковариация."
   ]
  },
  {
   "cell_type": "markdown",
   "metadata": {},
   "source": [
    "## Мотивация"
   ]
  },
  {
   "cell_type": "markdown",
   "metadata": {},
   "source": [
    "## Видео"
   ]
  },
  {
   "cell_type": "markdown",
   "metadata": {},
   "source": [
    "[Совместное распределение](https://stepik.org/lesson/48677/step/1?unit=26448)"
   ]
  },
  {
   "cell_type": "markdown",
   "metadata": {},
   "source": [
    "## Теория"
   ]
  },
  {
   "cell_type": "markdown",
   "metadata": {},
   "source": [
    "[Совместное распределение](https://nsu.ru/mmf/tvims/chernova/tv/lec/node34.html#SECTION000910)\n",
    "\n",
    "[Типы многомерных распределений](https://nsu.ru/mmf/tvims/chernova/tv/lec/node35.html)\n",
    "\n",
    "[Примеры многомерных распределений](https://nsu.ru/mmf/tvims/chernova/tv/lec/node36.html)\n",
    "\n",
    "[Многомерная независимость](https://nsu.ru/mmf/tvims/chernova/tv/lec/node38.html)"
   ]
  },
  {
   "cell_type": "markdown",
   "metadata": {},
   "source": [
    "## Определения"
   ]
  },
  {
   "cell_type": "markdown",
   "metadata": {},
   "source": [
    "$$F_{\\xi,\\eta}(x,y) = P(\\xi \\leq x, \\eta \\leq y) = \\int_{-\\infty}^{x}\\int_{-\\infty}^{y}\\rho_{\\xi,\\eta}(x,y)dxdy$$"
   ]
  },
  {
   "cell_type": "markdown",
   "metadata": {},
   "source": [
    "## Задачи на пару"
   ]
  },
  {
   "cell_type": "markdown",
   "metadata": {},
   "source": [
    "**1.**\n",
    "Двумерное распределение пары целочисленных случайных величин $\\xi$ и $\\eta$ задаётся с помощью таблицы, где в пересечении столбца $\\xi = i$ и строки $\\eta = j$ находится вероятность $P\\lbrace{\\xi = i, \\eta = j\\rbrace}$. \n",
    "\n",
    "|$\\xi$ & $\\eta$     |$\\xi$ $=$ $-1$    |$\\xi$ $=$ $0$|$\\xi$ $=$ $1$|\n",
    "|-------------------|------------------|---------|---------|\n",
    "|  $\\eta$ $=$ $-1$  |$\\frac{1}{8}$    |$\\frac{1}{12}$ |$\\frac{7}{24}$|\n",
    "|  $\\eta$ $=$ $1$  |$\\frac{5}{24}$    |$\\frac{1}{6}$ |$\\frac{1}{8}$|\n",
    "\n",
    "Найти:\n",
    "\n",
    "- Ковариацию:  $Cov(\\xi, \\eta) $\n",
    "\n",
    "**2.**\n",
    "Совместное распределение случайных величин $\\xi$ и $\\eta$ имеет плотность\n",
    "$$\\rho_{\\xi,\\eta}(x,y) =\\left\\{\n",
    "\t\\begin{array}{cc}\n",
    "\tx+y, & 0\\leq x\\leq 1, 0\\leq y\\leq 1 \\\\\n",
    "\t0, & otherwise\n",
    "\t\\end{array}\\right.$$\n",
    "Найдите \n",
    "\n",
    "* $E_{\\xi}$, $E_{\\eta}$\n",
    "* $D_{\\xi}$, $D_{\\eta}$\n",
    "* $E_{\\xi\\eta}$\n",
    "* $cov(\\xi,\\eta)$.\n",
    "\n",
    "**3.** Пусть $X$,$Y$ - независимые случайные величины с функциями распределения $F_X=1-e^{-ax}$, $F_Y=1-e^{-by}$, $x, y, a, b>0$. Найти $E(XY)$.\n",
    "\n",
    "**4.** Найти коэффициент корреляции между $\\xi$ и $\\eta = e^{-\\xi}$ , если \n",
    "$\\xi$ имеет стандартное нормальное распределение $N(0,1)$."
   ]
  },
  {
   "cell_type": "markdown",
   "metadata": {},
   "source": [
    "## ДЗ"
   ]
  },
  {
   "cell_type": "markdown",
   "metadata": {},
   "source": [
    "**1.** Совместное распределение случайных величин $\\xi$ и $\\eta$ имеет плотность\n",
    "$$\\rho_{\\xi,\\eta}(x,y) =\\left\\{\n",
    "\t\\begin{array}{cc}\n",
    "\t\\frac{3}{2}(x^2+y^2), & 0\\leq x\\leq 1, 0\\leq y\\leq 1 \\\\\n",
    "\t0, & otherwise\n",
    "\t\\end{array}\\right.$$\n",
    "Найдите \n",
    "* $E_{\\xi}$, $E_{\\eta}$\n",
    "* $D_{\\xi}$, $D_{\\eta}$\n",
    "* $cov(\\xi,\\eta)$.\n",
    "\n",
    "**2.** Доказать, что не существует трех случайных величин $\\xi$, $\\eta$ и\n",
    "$\\theta$ таких, что коэффициент корреляции любых двух из них равен $-1$.\n",
    "\n",
    "**3.** Найти коэффициент корреляции между $\\xi$ и $\\eta = e^{-\\xi}$ , если \n",
    "$\\xi$ имеет нормальное распределение с параметрами $\\mu$ и $\\sigma$."
   ]
  }
 ],
 "metadata": {
  "kernelspec": {
   "display_name": "Python 3",
   "language": "python",
   "name": "python3"
  },
  "language_info": {
   "codemirror_mode": {
    "name": "ipython",
    "version": 3
   },
   "file_extension": ".py",
   "mimetype": "text/x-python",
   "name": "python",
   "nbconvert_exporter": "python",
   "pygments_lexer": "ipython3",
   "version": "3.8.2"
  }
 },
 "nbformat": 4,
 "nbformat_minor": 2
}
