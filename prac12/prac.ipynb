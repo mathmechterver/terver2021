{
 "cells": [
  {
   "cell_type": "markdown",
   "metadata": {},
   "source": [
    "# 12. Совместные распределения. "
   ]
  },
  {
   "cell_type": "markdown",
   "metadata": {},
   "source": [
    "<img src='data/joint.jpeg' width=400/>"
   ]
  },
  {
   "cell_type": "markdown",
   "metadata": {
    "id": "bc21279e-5c02-444f-af18-c24c253d2ac0"
   },
   "source": [
    "## Содержание\n",
    "\n",
    "* [Теория](#chapter1)\n",
    "* [Задачи на пару](#chapter2)\n",
    "* [Домашнее задание](#chapter3)\n",
    "* [Гробы](#chapter4)"
   ]
  },
  {
   "cell_type": "markdown",
   "metadata": {},
   "source": [
    "## Теория <a class=\"anchor\" id=\"chapter1\"></a>"
   ]
  },
  {
   "cell_type": "markdown",
   "metadata": {},
   "source": [
    "$$F_{\\xi,\\eta}(x,y) = P(\\xi \\leq x, \\eta \\leq y) = \\int_{-\\infty}^{x}\\int_{-\\infty}^{y}\\rho_{\\xi,\\eta}(x,y)dxdy$$"
   ]
  },
  {
   "cell_type": "markdown",
   "metadata": {},
   "source": [
    "Остальное все аналогично"
   ]
  },
  {
   "cell_type": "markdown",
   "metadata": {
    "id": "6516249c-acb3-4f9c-b22c-8a4c6ab8d000"
   },
   "source": [
    "Дисперсия случайной величины\n",
    "$$\\mathbb{D}[\\xi] = \\mathbb{E}[\\xi - \\mathbb{E}[\\xi]]^2 = \\mathbb{E}[\\xi^2] - \\mathbb{E}[\\xi]^2$$"
   ]
  },
  {
   "cell_type": "markdown",
   "metadata": {
    "id": "bdacc182-d6b7-4611-9e75-9e91e8684cee"
   },
   "source": [
    "Ковариация двух случайных величин\n",
    "$$cov(\\xi,\\mu) = \\mathbb{E}\\Big[(\\xi - \\mathbb{E}[\\xi])(\\mu - \\mathbb{E}[\\mu])\\Big]$$"
   ]
  },
  {
   "cell_type": "markdown",
   "metadata": {
    "id": "c50fb281-5025-4773-943f-7bebf175fa2f"
   },
   "source": [
    "Корреляция двух случайных величин\n",
    "\n",
    "$$cor(\\xi, \\mu) = \\frac{cov(\\xi, \\mu)}{\\mathbb{D}[\\xi]\\mathbb{D}[\\mu]}$$"
   ]
  },
  {
   "cell_type": "markdown",
   "metadata": {},
   "source": [
    "## Задачи на пару <a class=\"anchor\" id=\"chapter2\"></a>"
   ]
  },
  {
   "cell_type": "markdown",
   "metadata": {},
   "source": [
    "**1.**\n",
    "Совместное распределение случайных величин $\\xi$ и $\\eta$ имеет плотность\n",
    "$$\\rho_{\\xi,\\eta}(x,y) =\\left\\{\n",
    "\t\\begin{array}{cc}\n",
    "\tx+y, & 0\\leq x\\leq 1, 0\\leq y\\leq 1 \\\\\n",
    "\t0, & otherwise\n",
    "\t\\end{array}\\right.$$\n",
    "Найдите \n",
    "* Маргинальные распределения $\\xi$, $\\eta$\n",
    "* $E_{\\xi}$, $E_{\\eta}$\n",
    "* $D_{\\xi}$, $D_{\\eta}$\n",
    "* $cov(\\xi,\\eta)$.\n",
    "\n",
    "**2.** Пусть $X$,$Y$ - независимые случайные величины с функциями распределения $F_X=1-e^{-ax}$, $F_Y=1-e^{-by}$, $x, y, a, b>0$. Найти $E(XY)$.\n",
    "\n",
    "**3.** Найти коэффициент корреляции между $\\xi$ и $\\eta = e^{-\\xi}$ , если \n",
    "$\\xi$ имеет стандартное нормальное распределение с параметрами $\\mu$ и $\\sigma$."
   ]
  },
  {
   "cell_type": "markdown",
   "metadata": {},
   "source": [
    "## ДЗ <a class=\"anchor\" id=\"chapter3\"></a>"
   ]
  },
  {
   "cell_type": "markdown",
   "metadata": {},
   "source": [
    "**1.** (3) Совместное распределение случайных величин $\\xi$ и $\\eta$ имеет плотность\n",
    "$$\\rho_{\\xi,\\eta}(x,y) =\\left\\{\n",
    "\t\\begin{array}{cc}\n",
    "\t\\frac{3}{2}(x^2+y^2), & 0\\leq x\\leq 1, 0\\leq y\\leq 1 \\\\\n",
    "\t0, & otherwise\n",
    "\t\\end{array}\\right.$$\n",
    "Найдите\n",
    "* (0.5) Маргинальные распределения $\\xi$, $\\eta$\n",
    "* (1) $E_{\\xi}$, $E_{\\eta}$\n",
    "* (0.5) $D_{\\xi}$, $D_{\\eta}$\n",
    "* (1) $cov(\\xi,\\eta)$.\n",
    "\n",
    "**2.** Доказать, что не существует трех случайных величин $\\xi$, $\\eta$ и\n",
    "$\\theta$ таких, что коэффициент корреляции любых двух из них равен $-1$.\n"
   ]
  },
  {
   "cell_type": "markdown",
   "metadata": {
    "id": "PjGE3WtZRsbY"
   },
   "source": [
    "**3.** Пусть случайные величины $\\xi$ и $\\eta$ имеют нулевые средние значения, единичные дисперсии\n",
    "и коэффициент корреляции $c$. Показать,\n",
    "что $E\\max{(\\xi^2,\\eta^2)} \\geq 1 + \\sqrt{1 - c^2} $.\n"
   ]
  },
  {
   "cell_type": "markdown",
   "metadata": {},
   "source": [
    "## Гробы <a class=\"anchor\" id=\"chapter4\"></a>"
   ]
  },
  {
   "cell_type": "markdown",
   "metadata": {},
   "source": [
    "## Видео"
   ]
  },
  {
   "cell_type": "markdown",
   "metadata": {},
   "source": [
    "[Совместное распределение](https://stepik.org/lesson/48677/step/1?unit=26448)"
   ]
  },
  {
   "cell_type": "markdown",
   "metadata": {},
   "source": [
    "## Теория"
   ]
  },
  {
   "cell_type": "markdown",
   "metadata": {},
   "source": [
    "[Совместное распределение](https://nsu.ru/mmf/tvims/chernova/tv/lec/node34.html#SECTION000910)\n",
    "\n",
    "[Типы многомерных распределений](https://nsu.ru/mmf/tvims/chernova/tv/lec/node35.html)\n",
    "\n",
    "[Примеры многомерных распределений](https://nsu.ru/mmf/tvims/chernova/tv/lec/node36.html)\n",
    "\n",
    "[Многомерная независимость](https://nsu.ru/mmf/tvims/chernova/tv/lec/node38.html)"
   ]
  }
 ],
 "metadata": {
  "kernelspec": {
   "display_name": "Python 3",
   "language": "python",
   "name": "python3"
  },
  "language_info": {
   "codemirror_mode": {
    "name": "ipython",
    "version": 3
   },
   "file_extension": ".py",
   "mimetype": "text/x-python",
   "name": "python",
   "nbconvert_exporter": "python",
   "pygments_lexer": "ipython3",
   "version": "3.8.8"
  }
 },
 "nbformat": 4,
 "nbformat_minor": 4
}
