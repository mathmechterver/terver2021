{
 "cells": [
  {
   "cell_type": "markdown",
   "metadata": {
    "id": "9bZbQHP4RsbX"
   },
   "source": [
    "# Практика 11. Make интегральчики great again!\n"
   ]
  },
  {
   "cell_type": "markdown",
   "metadata": {
    "id": "vm2BU1laRsbX"
   },
   "source": [
    "## Задачи на пару"
   ]
  },
  {
   "cell_type": "markdown",
   "metadata": {
    "id": "WlKvJndfRsbY"
   },
   "source": [
    "**1.** Независимые случайные величины $\\xi$ и $\\eta$ имеют экспоненциальное распределение с параметрами $a$ и $b$ соответственно. Найдите вероятность $P(\\xi\\leqslant\\eta)$.\n"
   ]
  },
  {
   "cell_type": "markdown",
   "metadata": {
    "id": "keUXImD9bZBt"
   },
   "source": [
    "**2.** Случайные величины $\\xi$ и $\\eta$ независимы и имеют показательное распределение с параметром 1. Доказать, что отношение $\\frac{\\xi}{\\xi + \\eta}$ распределено равномерно на отрезке $[0, 1]$."
   ]
  },
  {
   "cell_type": "markdown",
   "metadata": {
    "id": "aAKcr3AHRsbY"
   },
   "source": [
    "**3.** Пусть $\\xi$ - случайная величина с нормальным распределением $N(a; b)$. Какое распределение будет иметь:\n",
    "* $\\xi + \\alpha$ при $a = 0, b = 1, \\alpha = const$\n",
    "* $\\xi * \\alpha$ при $a = 0, b = 1, \\alpha = const$\n",
    "* $\\xi * \\alpha$ при $b = 1, \\alpha = const$\n",
    "* $\\xi + \\eta$ при $\\xi \\thicksim N(0, 1)$ и $\\eta \\thicksim N(0, 1)$"
   ]
  },
  {
   "cell_type": "markdown",
   "metadata": {
    "id": "iUouVVWrRsbY"
   },
   "source": [
    "## Домашка"
   ]
  },
  {
   "cell_type": "markdown",
   "metadata": {
    "id": "y_cUuC9_RsbY"
   },
   "source": [
    "**1.**\n",
    "* (1 балла) Доказать, что $\\mathcal{N}(0, a^2) * c = \\mathcal{N}(0, c^2a^2)$ и аккуратно рассмотреть случай $c < 0$\n",
    "* (1 балла) Найти распределение $a*\\mathcal{N}(\\mu, \\sigma^2) + b$\n",
    "* (1 балла) Найти $\\mathcal{N}(0, \\sigma_1^2) + \\mathcal{N}(0, \\sigma_2^2)$\n",
    "\n",
    "\n"
   ]
  },
  {
   "cell_type": "markdown",
   "metadata": {},
   "source": [
    "**2.** Совместное распределение $\\xi$ и $\\eta$   \n",
    "$$\\rho(x,y) = \\frac{1}{\\pi}e^{-\\frac{(x^2 + 2xy + 5y^2)}{2}}$$\n",
    "\n",
    "Найти плотности распределения \n",
    "1. (1 балл) маргинального распределение $\\xi$ (взять интеграл по y)\n",
    "2. (1 балл) маргинального распределение $\\eta$ (взять интеграл по x)\n",
    "3. (1 балл) $\\xi + \\eta$"
   ]
  },
  {
   "cell_type": "markdown",
   "metadata": {
    "id": "PjGE3WtZRsbY"
   },
   "source": [
    "**3.**(1 балла) Пусть случайные величины $\\xi$ и $\\eta$ имеют нулевые средние значения, единичные дисперсии\n",
    "и коэффициент корреляции $c$. Показать,\n",
    "что $E\\max{(\\xi^2,\\eta^2)} \\geq 1 + \\sqrt{1 - c^2} $.\n"
   ]
  },
  {
   "cell_type": "markdown",
   "metadata": {
    "id": "3Qsw2TYylAvE"
   },
   "source": [
    "**4.**(1 балла) Доказать, что если $E|\\xi| < \\infty$, то \n",
    "\n",
    "$E\\xi = \\int_0^{\\infty}P(\\xi \\ge x)dx - \\int_{-\\infty}^0 P(\\xi < x)dx$\n"
   ]
  },
  {
   "cell_type": "markdown",
   "metadata": {},
   "source": [
    "# Гробы"
   ]
  },
  {
   "cell_type": "markdown",
   "metadata": {},
   "source": [
    "   1. (2 + 1 балл) У вас есть генератор чисел в вашем ЯП и нужно достаточно плотно выбрать целые числа из отрезка (индекса массива). \n",
    "   \n",
    "   Иными словами, есть $N$ урн, в которые бросают шары до тех пор, пока в каждой урне не окажется хотя бы по одному шару. Найдите среднее количество брошенных шаров, если известно, что шар попадает в урны равновероятно.\n",
    "   \n"
   ]
  }
 ],
 "metadata": {
  "colab": {
   "collapsed_sections": [],
   "name": "Копия блокнота \"MainPractice12.ipynb\"",
   "provenance": []
  },
  "kernelspec": {
   "display_name": "Python 3",
   "language": "python",
   "name": "python3"
  },
  "language_info": {
   "codemirror_mode": {
    "name": "ipython",
    "version": 3
   },
   "file_extension": ".py",
   "mimetype": "text/x-python",
   "name": "python",
   "nbconvert_exporter": "python",
   "pygments_lexer": "ipython3",
   "version": "3.8.8"
  }
 },
 "nbformat": 4,
 "nbformat_minor": 4
}
